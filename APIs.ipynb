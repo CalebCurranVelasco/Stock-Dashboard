{
 "cells": [
  {
   "cell_type": "markdown",
   "metadata": {},
   "source": [
    "## Yahoo Finance API\n",
    "https://theautomatic.net/yahoo_fin-documentation/#methods \n",
    "\n",
    "Taking in News data\n",
    "\n",
    "Common News Outlets:\n",
    "Reuters,\n",
    "Bloomberg,\n",
    "Techcrunch,\n",
    "Invesopedia,\n",
    "TheStreet,\n",
    "Buisness Insider,\n",
    "StockStory,\n",
    "MT Newswires,\n",
    "Associated Press Finance,\n",
    "Motley Fool,\n",
    "Stock Market Alerts,\n",
    "SmartAsset,\n",
    "Fortune,\n",
    "Morningstar Research,\n",
    "Investor's Buisness Daily,\n",
    "Barrons.com,\n",
    "Benzinga\n",
    "\n",
    "\n"
   ]
  },
  {
   "cell_type": "code",
   "execution_count": null,
   "metadata": {},
   "outputs": [],
   "source": [
    "pip install yahoo_fin"
   ]
  },
  {
   "cell_type": "code",
   "execution_count": 87,
   "metadata": {},
   "outputs": [
    {
     "name": "stdout",
     "output_type": "stream",
     "text": [
      "{'summary': 'Investing.com -- It’s an exciting time to be a shareholder of NetGear (NASDAQ:NTGR).', 'summary_detail': {'type': 'text/html', 'language': None, 'base': 'https://feeds.finance.yahoo.com/rss/2.0/headline?s=ntgr&region=US&lang=en-US', 'value': 'Investing.com -- It’s an exciting time to be a shareholder of NetGear (NASDAQ:NTGR).'}, 'id': 'ff5bb63a-e94a-37c3-9828-d7d77ce042d8', 'guidislink': False, 'links': [{'rel': 'alternate', 'type': 'text/html', 'href': 'https://finance.yahoo.com/news/netgear-soaring-key-investors-bullish-184013025.html?.tsrc=rss'}], 'link': 'https://finance.yahoo.com/news/netgear-soaring-key-investors-bullish-184013025.html?.tsrc=rss', 'published': 'Thu, 12 Sep 2024 18:40:13 +0000', 'published_parsed': time.struct_time(tm_year=2024, tm_mon=9, tm_mday=12, tm_hour=18, tm_min=40, tm_sec=13, tm_wday=3, tm_yday=256, tm_isdst=0), 'title': 'NetGear is soaring, and key investors are as  bullish as ever', 'title_detail': {'type': 'text/plain', 'language': None, 'base': 'https://feeds.finance.yahoo.com/rss/2.0/headline?s=ntgr&region=US&lang=en-US', 'value': 'NetGear is soaring, and key investors are as  bullish as ever'}}\n",
      "Summary                                                   Published                   Link                                                                                      \n",
      "==========================================================================================================================================================================\n",
      "NetGear is soaring, and key investors are as  bullis...   Thu, 12 Sep 2024 18:40:13   https://finance.yahoo.com/news/netgear-soaring-key-investors-bullish-184013025.html?.tsrc=rss\n",
      "With 85% ownership, NETGEAR, Inc. (NASDAQ:NTGR) boas...   Thu, 12 Sep 2024 11:35:01   https://finance.yahoo.com/news/85-ownership-netgear-inc-nasdaq-113501901.html?.tsrc=rss\n",
      "Why Is NETGEAR Stock Jumping Premarket Thursday?          Thu, 12 Sep 2024 10:02:39   https://finance.yahoo.com/news/why-netgear-stock-jumping-premarket-100239578.html?.tsrc=rss\n",
      "NETGEAR Strengthens Connectivity With Nighthawk M7 P...   Wed, 11 Sep 2024 13:18:00   https://finance.yahoo.com/news/netgear-strengthens-connectivity-nighthawk-m7-131800667.html?.tsrc=rss\n",
      "ADTRAN Announces New SBTi-Approved Targets for Susta...   Tue, 10 Sep 2024 14:36:00   https://finance.yahoo.com/news/adtran-announces-sbti-approved-targets-143600762.html?.tsrc=rss\n",
      "NETGEAR Introduces Powerful, High-speed Mobile Conne...   Tue, 10 Sep 2024 12:30:00   https://finance.yahoo.com/news/netgear-introduces-powerful-high-speed-123000161.html?.tsrc=rss\n",
      "Will Focus on Strategic Collaborations Drive NETGEAR...   Fri, 06 Sep 2024 15:15:00   https://finance.yahoo.com/news/focus-strategic-collaborations-drive-netgear-151500448.html?.tsrc=rss\n",
      "NETGEAR and Samsung Electronics Join Forces for Seam...   Wed, 04 Sep 2024 12:30:00   https://finance.yahoo.com/news/netgear-samsung-electronics-join-forces-123000257.html?.tsrc=rss\n",
      "NETGEAR (NTGR) Down 1.2% Since Last Earnings Report:...   Fri, 30 Aug 2024 15:31:42   https://finance.yahoo.com/news/netgear-ntgr-down-1-2-153142433.html?.tsrc=rss\n",
      "Intrusion (INTZ) Q2 Loss Narrower Than Expected, Rev...   Fri, 16 Aug 2024 14:55:00   https://finance.yahoo.com/news/intrusion-intz-q2-loss-narrower-145500349.html?.tsrc=rss\n",
      "NETGEAR Expands its WiFi 7 Solution Portfolio for Bu...   Tue, 06 Aug 2024 12:30:00   https://finance.yahoo.com/news/netgear-expands-wifi-7-solution-123000621.html?.tsrc=rss\n",
      "Investing in NETGEAR (NTGR)? Don't Miss Assessing It...   Mon, 05 Aug 2024 13:15:30   https://finance.yahoo.com/news/investing-netgear-ntgr-dont-miss-131530051.html?.tsrc=rss\n",
      "NETGEAR Second Quarter 2024 Earnings: Revenues Beat ...   Fri, 02 Aug 2024 10:35:29   https://finance.yahoo.com/news/netgear-second-quarter-2024-earnings-103529842.html?.tsrc=rss\n",
      "The Top 3 Small-Cap Stocks to Buy Now: Summer 2024        Thu, 01 Aug 2024 20:41:58   https://finance.yahoo.com/news/top-3-small-cap-stocks-204158542.html?.tsrc=rss\n",
      "NETGEAR (NTGR) Q2 Loss Narrower Than Expected, Reven...   Thu, 01 Aug 2024 13:17:00   https://finance.yahoo.com/news/netgear-ntgr-q2-loss-narrower-131700138.html?.tsrc=rss\n",
      "NETGEAR, Inc. (NTGR) Reports Q2 Loss, Tops Revenue E...   Wed, 31 Jul 2024 22:10:05   https://finance.yahoo.com/news/netgear-inc-ntgr-reports-q2-221005801.html?.tsrc=rss\n",
      "NETGEAR® Reports Second Quarter 2024 Results              Wed, 31 Jul 2024 20:05:00   https://finance.yahoo.com/news/netgear-reports-second-quarter-2024-200500040.html?.tsrc=rss\n",
      "The Leader in Immersive Healthcare for the Aging Joi...   Wed, 31 Jul 2024 11:15:00   https://finance.yahoo.com/news/leader-immersive-healthcare-aging-joins-111500459.html?.tsrc=rss\n",
      "NETGEAR Announces New Additions to its Board of Dire...   Thu, 25 Jul 2024 12:30:00   https://finance.yahoo.com/news/netgear-announces-additions-board-directors-123000326.html?.tsrc=rss\n",
      "NETGEAR Schedules Second Quarter 2024 Results Confer...   Mon, 15 Jul 2024 13:00:00   https://finance.yahoo.com/news/netgear-schedules-second-quarter-2024-130000063.html?.tsrc=rss\n"
     ]
    }
   ],
   "source": [
    "import yahoo_fin.stock_info as si\n",
    "from yahoo_fin import news \n",
    "news = news.get_yf_rss(\"ntgr\")\n",
    "print(news[0])\n",
    "\n",
    "title_padding = 55 \n",
    "published_padding = 25\n",
    "link_padding = 90 \n",
    "\n",
    "print(f\"{'Summary'.ljust(title_padding)}   {'Published'.ljust(published_padding)}   {'Link'.ljust(link_padding)}\")\n",
    "print(\"=\" * (title_padding + published_padding + link_padding))\n",
    "\n",
    "for article in news:\n",
    "    cropped_title = article['title'][:title_padding - 3] + \"...\" if len(article['title']) > title_padding else article['title']\n",
    "    published = article['published'][:published_padding]  \n",
    "    \n",
    "    print(f\"{cropped_title.ljust(title_padding)}   {published.ljust(published_padding)}   {article['link']}\")\n"
   ]
  },
  {
   "cell_type": "markdown",
   "metadata": {},
   "source": [
    "## Robinhood API"
   ]
  },
  {
   "cell_type": "code",
   "execution_count": null,
   "metadata": {},
   "outputs": [],
   "source": [
    "pip install robin_stocks"
   ]
  },
  {
   "cell_type": "code",
   "execution_count": 2,
   "metadata": {},
   "outputs": [
    {
     "data": {
      "text/plain": [
       "{'access_token': 'eyJhbGciOiJSUzI1NiIsInR5cCI6IkpXVCJ9.eyJkY3QiOjE3MjYxOTc0MTIsImRldmljZV9oYXNoIjoiNzE3YmJkNWJhMGYyMDI0NjZkNmY5ZmZlNmYwZmZlZTYiLCJleHAiOjE3MjcxOTQ0MTAsImxldmVsMl9hY2Nlc3MiOmZhbHNlLCJtZXRhIjp7Im9pZCI6ImM4MlNIMFdaT3NhYk9YR1Ayc3hxY2ozNEZ4a3ZmbldSWkJLbEJqRlMiLCJvbiI6IlJvYmluaG9vZCJ9LCJvcHRpb25zIjp0cnVlLCJzY29wZSI6ImludGVybmFsIiwic2VydmljZV9yZWNvcmRzIjpbeyJoYWx0ZWQiOmZhbHNlLCJzZXJ2aWNlIjoibnVtbXVzX3VzIiwic2hhcmRfaWQiOjEsInN0YXRlIjoiYXZhaWxhYmxlIn0seyJoYWx0ZWQiOmZhbHNlLCJzZXJ2aWNlIjoiYnJva2ViYWNrX3VzIiwic2hhcmRfaWQiOjcsInN0YXRlIjoiYXZhaWxhYmxlIn1dLCJzbGciOjEsInNscyI6ImNxc2hwS1ArWk4vUWt6MmNpZFpraU00cUVuZllOeTlFc0JwUnI4b1FBV0ZPWkN4T1d0d295MXhiRWdSUHltMVJGS1RIeFFRTlFNYVdBKzBKVkZwdEN3PT0iLCJzcm0iOnsiYiI6eyJobCI6ZmFsc2UsInIiOiJ1cyIsInNpZCI6N30sIm4iOnsiaGwiOmZhbHNlLCJyIjoidXMiLCJzaWQiOjF9fSwidG9rZW4iOiJkYXQ5RVlWUkJZWTl2QmhwdjhvaXYzSXdSQUk0TlQiLCJ1c2VyX2lkIjoiMjU0MzI0ZmUtMDU3Yy00NmU5LWIwZmUtYmE0ZjA5MjI0NjAwIiwidXNlcl9vcmlnaW4iOiJVUyJ9.OhdZuFuSxTkm0BLO55jIy1hovOZHur8fpLs-JHZDapacYeJGBYyh1JhjDX00IYcs0EQkTR-3f-prvZVKuChuCA4UVYS62Mtz9xy_OT2GVcxRCRn8-3jeympF_N3uPL5xRMQPTm476KcCtK0odSFdIWKXW9S_JnWGtLkdIdqxs8t7DQojMo6fnpL46RdPnPfBrhzNfHJ1ZshgiXiPnyBPzZ0dL_eXm-qfy0QxyN5i2WgNciylG4l7pWkdG2IGG7h12A4g8r3FIuWIjxpLKDTG0NRi9UBIp9jrFPlG7K0qG9BeL0bkF1v1FAB506WFb8qf6gAlsxiL54JYB8jrLKjR3A',\n",
       " 'token_type': 'Bearer',\n",
       " 'expires_in': 86400,\n",
       " 'scope': 'internal',\n",
       " 'detail': 'logged in using authentication in robinhood.pickle',\n",
       " 'backup_code': None,\n",
       " 'refresh_token': 'foEVdzv4A0LZyP1Dqq3ENR7F8ILhCy'}"
      ]
     },
     "execution_count": 2,
     "metadata": {},
     "output_type": "execute_result"
    }
   ],
   "source": [
    "import robin_stocks.robinhood as r\n",
    "import getpass\n",
    "\n",
    "username = input(\"Enter your Robinhood username: \")\n",
    "password = getpass.getpass(\"Enter your Robinhood password: \")\n",
    "\n",
    "r.login(username, password)\n"
   ]
  },
  {
   "cell_type": "code",
   "execution_count": 4,
   "metadata": {},
   "outputs": [],
   "source": [
    "import pandas as pd\n",
    "\n",
    "movers = r.get_top_movers()  \n",
    "movers_df = pd.DataFrame(movers)"
   ]
  },
  {
   "cell_type": "code",
   "execution_count": 40,
   "metadata": {},
   "outputs": [
    {
     "data": {
      "image/png": "[encoded data removed]",
      "text/plain": [
       "<Figure size 1000x600 with 1 Axes>"
      ]
     },
     "metadata": {},
     "output_type": "display_data"
    }
   ],
   "source": [
    "import matplotlib.pyplot as plt \n",
    "# print(movers_df.info())\n",
    "# print(movers_df.head())\n",
    "\n",
    "if 'bid_price' in movers_df.columns and 'last_non_reg_trade_price' in movers_df.columns:\n",
    "    movers_df['current_price'] = movers_df['last_trade_price']\n",
    "    movers_df['previous_close_price'] = movers_df['adjusted_previous_close']\n",
    "else:\n",
    "    print(\"Columns 'bid_price' and/or 'last_non_reg_trade_price' not found.\")\n",
    "\n",
    "movers_df.dropna(subset=['current_price', 'previous_close_price'], inplace=True)\n",
    "\n",
    "movers_df['percent_change'] = ((movers_df['current_price'].astype(float) - movers_df['previous_close_price'].astype(float)) / movers_df['current_price'].astype(float)) * 100\n",
    "\n",
    "top_movers = movers_df[['symbol', 'percent_change']].head(20).sort_values('percent_change')\n",
    "\n",
    "plt.figure(figsize=(10, 6))\n",
    "plt.barh(top_movers['symbol'], top_movers['percent_change'], color='green')\n",
    "plt.xlabel('Percent Change (%)')\n",
    "plt.title('Top Movers of the Day')\n",
    "plt.show()"
   ]
  },
  {
   "cell_type": "markdown",
   "metadata": {},
   "source": [
    "## Combined APIs"
   ]
  },
  {
   "cell_type": "code",
   "execution_count": 18,
   "metadata": {},
   "outputs": [],
   "source": [
    "import robin_stocks.robinhood as r\n",
    "import getpass\n",
    "import yahoo_fin.stock_info as si\n",
    "from yahoo_fin import news \n",
    "import time\n",
    "import pandas as pd\n",
    "\n",
    "movers = r.get_top_movers()  \n",
    "movers_df = pd.DataFrame(movers)\n",
    "\n",
    "data_list = []\n",
    "\n",
    "for idx, mover in movers_df.iterrows():\n",
    "    # print(mover['symbol'].lower())\n",
    "    # print(type(mover['symbol']))\n",
    "    # print(len(mover['symbol']))\n",
    "    # time.sleep(0.5) . #Be careful a delay may need to be added\n",
    "    articles = news.get_yf_rss(mover['symbol'].lower())\n",
    "    percent_change = (((float(mover['last_trade_price']) - float(mover['adjusted_previous_close'])) / float(mover['last_trade_price'])) * 100)\n",
    "    row = {\n",
    "        'symbol': mover['symbol'],\n",
    "        'open_price': mover['adjusted_previous_close'],\n",
    "        'current_price': mover['last_trade_price'],\n",
    "        'percent_change' : percent_change, \n",
    "        'article_1': [articles[0]['title'], articles[0]['published'], articles[0]['link']] if len(articles) > 0 else None,\n",
    "        'article_2': [articles[1]['title'], articles[1]['published'], articles[1]['link']] if len(articles) > 1 else None,\n",
    "        'article_3': [articles[2]['title'], articles[2]['published'], articles[2]['link']] if len(articles) > 2 else None,\n",
    "        'article_4': [articles[3]['title'], articles[3]['published'], articles[3]['link']] if len(articles) > 3 else None,\n",
    "        'article_5': [articles[4]['title'], articles[4]['published'], articles[4]['link']] if len(articles) > 4 else None,\n",
    "\n",
    "    }\n",
    "    # print(row)\n",
    "    data_list.append(row)\n",
    "\n",
    "data_df = pd.DataFrame(data_list)\n"
   ]
  },
  {
   "cell_type": "code",
   "execution_count": null,
   "metadata": {},
   "outputs": [],
   "source": []
  }
 ],
 "metadata": {
  "kernelspec": {
   "display_name": "base",
   "language": "python",
   "name": "python3"
  },
  "language_info": {
   "codemirror_mode": {
    "name": "ipython",
    "version": 3
   },
   "file_extension": ".py",
   "mimetype": "text/x-python",
   "name": "python",
   "nbconvert_exporter": "python",
   "pygments_lexer": "ipython3",
   "version": "3.11.8"
  }
 },
 "nbformat": 4,
 "nbformat_minor": 2
}
