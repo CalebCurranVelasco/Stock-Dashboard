{
 "cells": [
  {
   "cell_type": "markdown",
   "metadata": {},
   "source": [
    "## Yahoo Finance API\n",
    "https://theautomatic.net/yahoo_fin-documentation/#methods \n",
    "\n",
    "Taking in News data\n",
    "\n",
    "Common News Outlets:\n",
    "Reuters,\n",
    "Bloomberg,\n",
    "Techcrunch,\n",
    "Invesopedia,\n",
    "TheStreet,\n",
    "Buisness Insider,\n",
    "StockStory,\n",
    "MT Newswires,\n",
    "Associated Press Finance,\n",
    "Motley Fool,\n",
    "Stock Market Alerts,\n",
    "SmartAsset,\n",
    "Fortune,\n",
    "Morningstar Research,\n",
    "Investor's Buisness Daily,\n",
    "Barrons.com,\n",
    "Benzinga\n",
    "\n",
    "\n"
   ]
  },
  {
   "cell_type": "code",
   "execution_count": 55,
   "metadata": {},
   "outputs": [
    {
     "name": "stdout",
     "output_type": "stream",
     "text": [
      "Collecting yfinance\n",
      "  Downloading yfinance-0.2.43-py2.py3-none-any.whl.metadata (11 kB)\n",
      "Requirement already satisfied: pandas>=1.3.0 in /Users/benbaize/anaconda3/envs/stock_dashboard/lib/python3.11/site-packages (from yfinance) (2.2.2)\n",
      "Requirement already satisfied: numpy>=1.16.5 in /Users/benbaize/anaconda3/envs/stock_dashboard/lib/python3.11/site-packages (from yfinance) (2.1.1)\n",
      "Requirement already satisfied: requests>=2.31 in /Users/benbaize/anaconda3/envs/stock_dashboard/lib/python3.11/site-packages (from yfinance) (2.32.3)\n",
      "Collecting multitasking>=0.0.7 (from yfinance)\n",
      "  Downloading multitasking-0.0.11-py3-none-any.whl.metadata (5.5 kB)\n",
      "Requirement already satisfied: lxml>=4.9.1 in /Users/benbaize/anaconda3/envs/stock_dashboard/lib/python3.11/site-packages (from yfinance) (5.3.0)\n",
      "Requirement already satisfied: platformdirs>=2.0.0 in /Users/benbaize/anaconda3/envs/stock_dashboard/lib/python3.11/site-packages (from yfinance) (4.3.2)\n",
      "Requirement already satisfied: pytz>=2022.5 in /Users/benbaize/anaconda3/envs/stock_dashboard/lib/python3.11/site-packages (from yfinance) (2024.2)\n",
      "Collecting frozendict>=2.3.4 (from yfinance)\n",
      "  Downloading frozendict-2.4.4-py311-none-any.whl.metadata (23 kB)\n",
      "Collecting peewee>=3.16.2 (from yfinance)\n",
      "  Downloading peewee-3.17.6.tar.gz (3.0 MB)\n",
      "\u001b[2K     \u001b[90m━━━━━━━━━━━━━━━━━━━━━━━━━━━━━━━━━━━━━━━━\u001b[0m \u001b[32m3.0/3.0 MB\u001b[0m \u001b[31m15.3 MB/s\u001b[0m eta \u001b[36m0:00:00\u001b[0m\n",
      "\u001b[?25h  Installing build dependencies ... \u001b[?25ldone\n",
      "\u001b[?25h  Getting requirements to build wheel ... \u001b[?25ldone\n",
      "\u001b[?25h  Preparing metadata (pyproject.toml) ... \u001b[?25ldone\n",
      "\u001b[?25hRequirement already satisfied: beautifulsoup4>=4.11.1 in /Users/benbaize/anaconda3/envs/stock_dashboard/lib/python3.11/site-packages (from yfinance) (4.12.3)\n",
      "Collecting html5lib>=1.1 (from yfinance)\n",
      "  Downloading html5lib-1.1-py2.py3-none-any.whl.metadata (16 kB)\n",
      "Requirement already satisfied: soupsieve>1.2 in /Users/benbaize/anaconda3/envs/stock_dashboard/lib/python3.11/site-packages (from beautifulsoup4>=4.11.1->yfinance) (2.6)\n",
      "Requirement already satisfied: six>=1.9 in /Users/benbaize/anaconda3/envs/stock_dashboard/lib/python3.11/site-packages (from html5lib>=1.1->yfinance) (1.16.0)\n",
      "Collecting webencodings (from html5lib>=1.1->yfinance)\n",
      "  Downloading webencodings-0.5.1-py2.py3-none-any.whl.metadata (2.1 kB)\n",
      "Requirement already satisfied: python-dateutil>=2.8.2 in /Users/benbaize/anaconda3/envs/stock_dashboard/lib/python3.11/site-packages (from pandas>=1.3.0->yfinance) (2.9.0)\n",
      "Requirement already satisfied: tzdata>=2022.7 in /Users/benbaize/anaconda3/envs/stock_dashboard/lib/python3.11/site-packages (from pandas>=1.3.0->yfinance) (2024.1)\n",
      "Requirement already satisfied: charset-normalizer<4,>=2 in /Users/benbaize/anaconda3/envs/stock_dashboard/lib/python3.11/site-packages (from requests>=2.31->yfinance) (3.3.2)\n",
      "Requirement already satisfied: idna<4,>=2.5 in /Users/benbaize/anaconda3/envs/stock_dashboard/lib/python3.11/site-packages (from requests>=2.31->yfinance) (3.8)\n",
      "Requirement already satisfied: urllib3<3,>=1.21.1 in /Users/benbaize/anaconda3/envs/stock_dashboard/lib/python3.11/site-packages (from requests>=2.31->yfinance) (1.26.20)\n",
      "Requirement already satisfied: certifi>=2017.4.17 in /Users/benbaize/anaconda3/envs/stock_dashboard/lib/python3.11/site-packages (from requests>=2.31->yfinance) (2024.8.30)\n",
      "Downloading yfinance-0.2.43-py2.py3-none-any.whl (84 kB)\n",
      "Downloading frozendict-2.4.4-py311-none-any.whl (16 kB)\n",
      "Downloading html5lib-1.1-py2.py3-none-any.whl (112 kB)\n",
      "Downloading multitasking-0.0.11-py3-none-any.whl (8.5 kB)\n",
      "Downloading webencodings-0.5.1-py2.py3-none-any.whl (11 kB)\n",
      "Building wheels for collected packages: peewee\n",
      "  Building wheel for peewee (pyproject.toml) ... \u001b[?25ldone\n",
      "\u001b[?25h  Created wheel for peewee: filename=peewee-3.17.6-cp311-cp311-macosx_11_0_arm64.whl size=246712 sha256=cd14d8c3e4c3d37905f2e3ac0ac8c0c3341c79e0a513118a2875832a6447c594\n",
      "  Stored in directory: /Users/benbaize/Library/Caches/pip/wheels/1c/09/7e/9f659fde248ecdc1722a142c1d744271aad3914a0afc191058\n",
      "Successfully built peewee\n",
      "Installing collected packages: webencodings, peewee, multitasking, html5lib, frozendict, yfinance\n",
      "Successfully installed frozendict-2.4.4 html5lib-1.1 multitasking-0.0.11 peewee-3.17.6 webencodings-0.5.1 yfinance-0.2.43\n",
      "Note: you may need to restart the kernel to use updated packages.\n"
     ]
    }
   ],
   "source": [
    "pip install yfinance"
   ]
  },
  {
   "cell_type": "code",
   "execution_count": 57,
   "metadata": {},
   "outputs": [
    {
     "name": "stdout",
     "output_type": "stream",
     "text": [
      "Current Price for AAPL: 220.69000244140625\n",
      "Current Volume for AAPL: 38716303\n",
      "Average Volume for AAPL: 55900977\n",
      "Float (Shares available for trading) for AAPL: 15179810381\n"
     ]
    },
    {
     "name": "stderr",
     "output_type": "stream",
     "text": [
      "/var/folders/9b/x2ln5s1x0x97knwyr1569h3r0000gn/T/ipykernel_57017/2669977559.py:13: FutureWarning: Series.__getitem__ treating keys as positions is deprecated. In a future version, integer keys will always be treated as labels (consistent with DataFrame behavior). To access a value by position, use `ser.iloc[pos]`\n",
      "  current_volume = stock_data['Volume'][0]\n",
      "/var/folders/9b/x2ln5s1x0x97knwyr1569h3r0000gn/T/ipykernel_57017/2669977559.py:16: FutureWarning: Series.__getitem__ treating keys as positions is deprecated. In a future version, integer keys will always be treated as labels (consistent with DataFrame behavior). To access a value by position, use `ser.iloc[pos]`\n",
      "  current_price = stock_data['Close'][0]\n"
     ]
    }
   ],
   "source": [
    "import yfinance as yf\n",
    "\n",
    "# Define the stock symbol (replace 'AAPL' with any stock symbol)\n",
    "stock_symbol = 'AAPL'\n",
    "\n",
    "# Fetch the stock data\n",
    "stock = yf.Ticker(stock_symbol)\n",
    "\n",
    "# Get the current day's data (it includes the volume and price data)\n",
    "stock_data = stock.history(period='1d')\n",
    "\n",
    "# Fetch the current volume\n",
    "current_volume = stock_data['Volume'][0]\n",
    "\n",
    "# Fetch the current price\n",
    "current_price = stock_data['Close'][0]\n",
    "\n",
    "# Fetch the average volume and float from the stock's info\n",
    "stock_info = stock.info\n",
    "average_volume = stock_info.get('averageVolume')\n",
    "float_shares = stock_info.get('floatShares')\n",
    "\n",
    "# Output the current price, current volume, average volume, and float\n",
    "print(f\"Current Price for {stock_symbol}: {current_price}\")\n",
    "print(f\"Current Volume for {stock_symbol}: {current_volume}\")\n",
    "print(f\"Average Volume for {stock_symbol}: {average_volume}\")\n",
    "print(f\"Float (Shares available for trading) for {stock_symbol}: {float_shares}\")\n"
   ]
  },
  {
   "cell_type": "code",
   "execution_count": 27,
   "metadata": {},
   "outputs": [
    {
     "name": "stdout",
     "output_type": "stream",
     "text": [
      "{'summary': 'Just because a business does not make any money, does not mean that the stock will go down. For example, although...', 'summary_detail': {'type': 'text/html', 'language': None, 'base': 'https://feeds.finance.yahoo.com/rss/2.0/headline?s=SGLY&region=US&lang=en-US', 'value': 'Just because a business does not make any money, does not mean that the stock will go down. For example, although...'}, 'id': '53069fcb-187a-3f66-a69a-9f700d22acc6', 'guidislink': False, 'links': [{'rel': 'alternate', 'type': 'text/html', 'href': 'https://finance.yahoo.com/news/think-singularity-future-technology-nasdaq-125820058.html?.tsrc=rss'}], 'link': 'https://finance.yahoo.com/news/think-singularity-future-technology-nasdaq-125820058.html?.tsrc=rss', 'published': 'Sat, 31 Aug 2024 12:58:20 +0000', 'published_parsed': time.struct_time(tm_year=2024, tm_mon=8, tm_mday=31, tm_hour=12, tm_min=58, tm_sec=20, tm_wday=5, tm_yday=244, tm_isdst=0), 'title': 'We Think Singularity Future Technology (NASDAQ:SGLY) Can Afford To Drive Business Growth', 'title_detail': {'type': 'text/plain', 'language': None, 'base': 'https://feeds.finance.yahoo.com/rss/2.0/headline?s=SGLY&region=US&lang=en-US', 'value': 'We Think Singularity Future Technology (NASDAQ:SGLY) Can Afford To Drive Business Growth'}}\n",
      "Summary                                                   Published                   Link                                                                                      \n",
      "==========================================================================================================================================================================\n",
      "We Think Singularity Future Technology (NASDAQ:SGLY)...   Sat, 31 Aug 2024 12:58:20   https://finance.yahoo.com/news/think-singularity-future-technology-nasdaq-125820058.html?.tsrc=rss\n",
      "Singularity Future Technology Second Quarter 2024 Ea...   Fri, 16 Feb 2024 11:50:59   https://finance.yahoo.com/news/singularity-future-technology-second-quarter-115059326.html?.tsrc=rss\n",
      "Singularity Future Technology Announces 1-for-10 Rev...   Tue, 30 Jan 2024 21:01:00   https://finance.yahoo.com/news/singularity-future-technology-announces-1-210100346.html?.tsrc=rss\n"
     ]
    }
   ],
   "source": [
    "import yahoo_fin.stock_info as si\n",
    "from yahoo_fin import news \n",
    "news = news.get_yf_rss(\"SGLY\")\n",
    "print(news[0])\n",
    "\n",
    "title_padding = 55 \n",
    "published_padding = 25\n",
    "link_padding = 90 \n",
    "\n",
    "print(f\"{'Summary'.ljust(title_padding)}   {'Published'.ljust(published_padding)}   {'Link'.ljust(link_padding)}\")\n",
    "print(\"=\" * (title_padding + published_padding + link_padding))\n",
    "\n",
    "for article in news:\n",
    "    cropped_title = article['title'][:title_padding - 3] + \"...\" if len(article['title']) > title_padding else article['title']\n",
    "    published = article['published'][:published_padding]  \n",
    "    \n",
    "    print(f\"{cropped_title.ljust(title_padding)}   {published.ljust(published_padding)}   {article['link']}\")\n"
   ]
  },
  {
   "cell_type": "markdown",
   "metadata": {},
   "source": [
    "## Robinhood API"
   ]
  },
  {
   "cell_type": "code",
   "execution_count": null,
   "metadata": {},
   "outputs": [],
   "source": [
    "pip install robin_stocks"
   ]
  },
  {
   "cell_type": "code",
   "execution_count": 1,
   "metadata": {},
   "outputs": [
    {
     "data": {
      "text/plain": [
       "{'access_token': 'eyJhbGciOiJSUzI1NiIsInR5cCI6IkpXVCJ9.eyJkY3QiOjE3MjYxOTc0MTIsImRldmljZV9oYXNoIjoiNzE3YmJkNWJhMGYyMDI0NjZkNmY5ZmZlNmYwZmZlZTYiLCJleHAiOjE3MjcxOTQ0MTAsImxldmVsMl9hY2Nlc3MiOmZhbHNlLCJtZXRhIjp7Im9pZCI6ImM4MlNIMFdaT3NhYk9YR1Ayc3hxY2ozNEZ4a3ZmbldSWkJLbEJqRlMiLCJvbiI6IlJvYmluaG9vZCJ9LCJvcHRpb25zIjp0cnVlLCJzY29wZSI6ImludGVybmFsIiwic2VydmljZV9yZWNvcmRzIjpbeyJoYWx0ZWQiOmZhbHNlLCJzZXJ2aWNlIjoibnVtbXVzX3VzIiwic2hhcmRfaWQiOjEsInN0YXRlIjoiYXZhaWxhYmxlIn0seyJoYWx0ZWQiOmZhbHNlLCJzZXJ2aWNlIjoiYnJva2ViYWNrX3VzIiwic2hhcmRfaWQiOjcsInN0YXRlIjoiYXZhaWxhYmxlIn1dLCJzbGciOjEsInNscyI6ImNxc2hwS1ArWk4vUWt6MmNpZFpraU00cUVuZllOeTlFc0JwUnI4b1FBV0ZPWkN4T1d0d295MXhiRWdSUHltMVJGS1RIeFFRTlFNYVdBKzBKVkZwdEN3PT0iLCJzcm0iOnsiYiI6eyJobCI6ZmFsc2UsInIiOiJ1cyIsInNpZCI6N30sIm4iOnsiaGwiOmZhbHNlLCJyIjoidXMiLCJzaWQiOjF9fSwidG9rZW4iOiJkYXQ5RVlWUkJZWTl2QmhwdjhvaXYzSXdSQUk0TlQiLCJ1c2VyX2lkIjoiMjU0MzI0ZmUtMDU3Yy00NmU5LWIwZmUtYmE0ZjA5MjI0NjAwIiwidXNlcl9vcmlnaW4iOiJVUyJ9.OhdZuFuSxTkm0BLO55jIy1hovOZHur8fpLs-JHZDapacYeJGBYyh1JhjDX00IYcs0EQkTR-3f-prvZVKuChuCA4UVYS62Mtz9xy_OT2GVcxRCRn8-3jeympF_N3uPL5xRMQPTm476KcCtK0odSFdIWKXW9S_JnWGtLkdIdqxs8t7DQojMo6fnpL46RdPnPfBrhzNfHJ1ZshgiXiPnyBPzZ0dL_eXm-qfy0QxyN5i2WgNciylG4l7pWkdG2IGG7h12A4g8r3FIuWIjxpLKDTG0NRi9UBIp9jrFPlG7K0qG9BeL0bkF1v1FAB506WFb8qf6gAlsxiL54JYB8jrLKjR3A',\n",
       " 'token_type': 'Bearer',\n",
       " 'expires_in': 86400,\n",
       " 'scope': 'internal',\n",
       " 'detail': 'logged in using authentication in robinhood.pickle',\n",
       " 'backup_code': None,\n",
       " 'refresh_token': 'foEVdzv4A0LZyP1Dqq3ENR7F8ILhCy'}"
      ]
     },
     "execution_count": 1,
     "metadata": {},
     "output_type": "execute_result"
    }
   ],
   "source": [
    "import robin_stocks.robinhood as r\n",
    "import getpass\n",
    "\n",
    "username = input(\"Enter your Robinhood username: \")\n",
    "password = getpass.getpass(\"Enter your Robinhood password: \")\n",
    "\n",
    "r.login(username, password)\n"
   ]
  },
  {
   "cell_type": "code",
   "execution_count": 5,
   "metadata": {},
   "outputs": [],
   "source": [
    "import pandas as pd\n",
    "\n",
    "movers = r.get_top_movers()  \n",
    "movers_df = pd.DataFrame(movers)"
   ]
  },
  {
   "cell_type": "code",
   "execution_count": 6,
   "metadata": {},
   "outputs": [
    {
     "data": {
      "image/png": "[encoded data removed]",
      "text/plain": [
       "<Figure size 1000x600 with 1 Axes>"
      ]
     },
     "metadata": {},
     "output_type": "display_data"
    }
   ],
   "source": [
    "import matplotlib.pyplot as plt \n",
    "# print(movers_df.info())\n",
    "# print(movers_df.head())\n",
    "\n",
    "if 'bid_price' in movers_df.columns and 'last_non_reg_trade_price' in movers_df.columns:\n",
    "    movers_df['current_price'] = movers_df['last_trade_price']\n",
    "    movers_df['previous_close_price'] = movers_df['adjusted_previous_close']\n",
    "else:\n",
    "    print(\"Columns 'bid_price' and/or 'last_non_reg_trade_price' not found.\")\n",
    "\n",
    "movers_df.dropna(subset=['current_price', 'previous_close_price'], inplace=True)\n",
    "\n",
    "movers_df['percent_change'] = ((movers_df['current_price'].astype(float) - movers_df['previous_close_price'].astype(float)) / movers_df['current_price'].astype(float)) * 100\n",
    "\n",
    "top_movers = movers_df[['symbol', 'percent_change']].head(20).sort_values('percent_change')\n",
    "\n",
    "plt.figure(figsize=(10, 6))\n",
    "plt.barh(top_movers['symbol'], top_movers['percent_change'], color='green')\n",
    "plt.xlabel('Percent Change (%)')\n",
    "plt.title('Top Movers of the Day')\n",
    "plt.show()"
   ]
  },
  {
   "cell_type": "markdown",
   "metadata": {},
   "source": [
    "## Combined APIs"
   ]
  },
  {
   "cell_type": "code",
   "execution_count": 15,
   "metadata": {},
   "outputs": [],
   "source": [
    "import robin_stocks.robinhood as r\n",
    "import getpass\n",
    "import yahoo_fin.stock_info as si\n",
    "from yahoo_fin import news \n",
    "import time\n",
    "import pandas as pd\n",
    "\n",
    "movers = r.get_top_movers()  \n",
    "movers_df = pd.DataFrame(movers)\n",
    "\n",
    "data_list = []\n",
    "\n",
    "for idx, mover in movers_df.iterrows():\n",
    "    # print(mover['symbol'].lower())\n",
    "    # print(type(mover['symbol']))\n",
    "    # print(len(mover['symbol']))\n",
    "    # time.sleep(0.5) . #Be careful a delay may need to be added\n",
    "    articles = news.get_yf_rss(mover['symbol'].lower())\n",
    "    percent_change = (((float(mover['last_trade_price']) - float(mover['adjusted_previous_close'])) / float(mover['last_trade_price'])) * 100)\n",
    "    row = {\n",
    "        'symbol': mover['symbol'],\n",
    "        'open_price': mover['adjusted_previous_close'],\n",
    "        'current_price': mover['last_trade_price'],\n",
    "        'percent_change' : percent_change, \n",
    "        'article_1': [articles[0]['title'], articles[0]['published'], articles[0]['link']] if len(articles) > 0 else None,\n",
    "        'article_2': [articles[1]['title'], articles[1]['published'], articles[1]['link']] if len(articles) > 1 else None,\n",
    "        'article_3': [articles[2]['title'], articles[2]['published'], articles[2]['link']] if len(articles) > 2 else None,\n",
    "        'article_4': [articles[3]['title'], articles[3]['published'], articles[3]['link']] if len(articles) > 3 else None,\n",
    "        'article_5': [articles[4]['title'], articles[4]['published'], articles[4]['link']] if len(articles) > 4 else None,\n",
    "\n",
    "    }\n",
    "    # print(row)\n",
    "    data_list.append(row)\n",
    "\n",
    "data_df = pd.DataFrame(data_list)"
   ]
  },
  {
   "cell_type": "code",
   "execution_count": 6,
   "metadata": {},
   "outputs": [
    {
     "name": "stdout",
     "output_type": "stream",
     "text": [
      "DataFrame exported to data.json\n"
     ]
    }
   ],
   "source": [
    "# Export DataFrame to JSON\n",
    "data_df.to_json('data.json', orient='records', indent=2)\n",
    "\n",
    "print(\"DataFrame exported to data.json\")"
   ]
  },
  {
   "cell_type": "code",
   "execution_count": 68,
   "metadata": {},
   "outputs": [
    {
     "name": "stdout",
     "output_type": "stream",
     "text": [
      "Data successfully saved to gainers.json\n"
     ]
    }
   ],
   "source": [
    "import requests\n",
    "import json\n",
    "\n",
    "def fetch_gainers_and_save_to_json():\n",
    "    # Define the API endpoint\n",
    "    url = \"https://financialmodelingprep.com/api/v3/stock_market/gainers?apikey=47aF67g8nwXCiKguRSbHRy3WfKuQFPPq\"\n",
    "\n",
    "    # Send a GET request to the API\n",
    "    response = requests.get(url)\n",
    "\n",
    "    # Check if the request was successful\n",
    "    if response.status_code == 200:\n",
    "        # Parse the response content into JSON\n",
    "        gainers_data = response.json()\n",
    "        \n",
    "        # Save the data into a JSON file\n",
    "        with open('gainers.json', 'w') as json_file:\n",
    "            json.dump(gainers_data, json_file, indent=4)\n",
    "        \n",
    "        print(\"Data successfully saved to gainers.json\")\n",
    "    else:\n",
    "        print(f\"Failed to fetch data. Status code: {response.status_code}, Error: {response.text}\")\n",
    "\n",
    "# Fetch gainers and save them to a JSON file\n",
    "fetch_gainers_and_save_to_json()\n"
   ]
  },
  {
   "cell_type": "code",
   "execution_count": 4,
   "metadata": {},
   "outputs": [
    {
     "name": "stdout",
     "output_type": "stream",
     "text": [
      "Warning - Certain functionality \n",
      "             requires requests_html, which is not installed.\n",
      "             \n",
      "             Install using: \n",
      "             pip install requests_html\n",
      "             \n",
      "             After installation, you may have to restart your Python session.\n"
     ]
    }
   ],
   "source": [
    "import json\n",
    "import pandas as pd\n",
    "import yahoo_fin.stock_info as si\n",
    "from yahoo_fin import news\n",
    "import yfinance as yf\n",
    "\n",
    "# Define the function to fetch and convert news to DataFrame\n",
    "def get_news_data_from_json(json_file_path: str):\n",
    "    # Load the JSON file with the symbols\n",
    "    with open(json_file_path, 'r') as f:\n",
    "        data = json.load(f)\n",
    "    \n",
    "    # Initialize lists to store all symbols' news data\n",
    "    all_titles = []\n",
    "    all_published_dates = []\n",
    "    all_links = []\n",
    "    all_symbols = []\n",
    "    all_percent_changes = []\n",
    "    all_current_prices = []\n",
    "    all_floats = []\n",
    "    all_avg_volumes = []\n",
    "    all_current_volumes = []\n",
    "    \n",
    "    # Iterate through the data\n",
    "    for item in data:\n",
    "        symbol = item['symbol']\n",
    "        percent_change = item['changesPercentage']\n",
    "        price = item['price']\n",
    "        # Fetch the stock data using yfinance\n",
    "        stock = yf.Ticker(symbol)\n",
    "        stock_info = stock.info\n",
    "        \n",
    "        # Fetch the current price, float, average volume, and current volume\n",
    "        float_shares = stock_info.get('floatShares')\n",
    "        average_volume = stock_info.get('averageVolume')\n",
    "        \n",
    "        # Fetch the latest trading day's data for the current volume\n",
    "        stock_data = stock.history(period='1d')\n",
    "        current_volume = stock_data['Volume'][0] if not stock_data.empty else None\n",
    "\n",
    "        # Fetch the news using the provided symbol\n",
    "        news_data = news.get_yf_rss(symbol)\n",
    "        \n",
    "        # Process each article in the news list\n",
    "        for article in news_data:\n",
    "            # Crop the title if it's too long\n",
    "            cropped_title = article['title']\n",
    "            published = article['published'][:25]\n",
    "            \n",
    "            # Append data to the respective lists\n",
    "            all_titles.append(cropped_title)\n",
    "            all_published_dates.append(published)\n",
    "            all_links.append(article['link'])\n",
    "            all_symbols.append(symbol)\n",
    "            all_percent_changes.append(percent_change)\n",
    "            all_current_prices.append(price)\n",
    "            all_floats.append(float_shares)\n",
    "            all_avg_volumes.append(average_volume)\n",
    "            all_current_volumes.append(current_volume)\n",
    "    \n",
    "    # Create a DataFrame from the lists\n",
    "    df = pd.DataFrame({\n",
    "        'Symbol': all_symbols,\n",
    "        'Percent Change': all_percent_changes,\n",
    "        'Summary': all_titles,\n",
    "        'Published': all_published_dates,\n",
    "        'Link': all_links,\n",
    "        'Current Price': all_current_prices,\n",
    "        'Float': all_floats,\n",
    "        'Average Volume': all_avg_volumes,\n",
    "        'Current Volume': all_current_volumes\n",
    "    })\n",
    "    \n",
    "    return df\n",
    "\n",
    "# Example usage:\n",
    "# json_file_path = 'path_to_your_json_file.json'\n",
    "# news_df = get_news_data_from_json(json_file_path)\n"
   ]
  },
  {
   "cell_type": "code",
   "execution_count": 5,
   "metadata": {},
   "outputs": [
    {
     "name": "stderr",
     "output_type": "stream",
     "text": [
      "/var/folders/9b/x2ln5s1x0x97knwyr1569h3r0000gn/T/ipykernel_54759/3377017286.py:39: FutureWarning: Series.__getitem__ treating keys as positions is deprecated. In a future version, integer keys will always be treated as labels (consistent with DataFrame behavior). To access a value by position, use `ser.iloc[pos]`\n",
      "  current_volume = stock_data['Volume'][0] if not stock_data.empty else None\n",
      "/var/folders/9b/x2ln5s1x0x97knwyr1569h3r0000gn/T/ipykernel_54759/3377017286.py:39: FutureWarning: Series.__getitem__ treating keys as positions is deprecated. In a future version, integer keys will always be treated as labels (consistent with DataFrame behavior). To access a value by position, use `ser.iloc[pos]`\n",
      "  current_volume = stock_data['Volume'][0] if not stock_data.empty else None\n",
      "/var/folders/9b/x2ln5s1x0x97knwyr1569h3r0000gn/T/ipykernel_54759/3377017286.py:39: FutureWarning: Series.__getitem__ treating keys as positions is deprecated. In a future version, integer keys will always be treated as labels (consistent with DataFrame behavior). To access a value by position, use `ser.iloc[pos]`\n",
      "  current_volume = stock_data['Volume'][0] if not stock_data.empty else None\n",
      "/var/folders/9b/x2ln5s1x0x97knwyr1569h3r0000gn/T/ipykernel_54759/3377017286.py:39: FutureWarning: Series.__getitem__ treating keys as positions is deprecated. In a future version, integer keys will always be treated as labels (consistent with DataFrame behavior). To access a value by position, use `ser.iloc[pos]`\n",
      "  current_volume = stock_data['Volume'][0] if not stock_data.empty else None\n",
      "/var/folders/9b/x2ln5s1x0x97knwyr1569h3r0000gn/T/ipykernel_54759/3377017286.py:39: FutureWarning: Series.__getitem__ treating keys as positions is deprecated. In a future version, integer keys will always be treated as labels (consistent with DataFrame behavior). To access a value by position, use `ser.iloc[pos]`\n",
      "  current_volume = stock_data['Volume'][0] if not stock_data.empty else None\n",
      "/var/folders/9b/x2ln5s1x0x97knwyr1569h3r0000gn/T/ipykernel_54759/3377017286.py:39: FutureWarning: Series.__getitem__ treating keys as positions is deprecated. In a future version, integer keys will always be treated as labels (consistent with DataFrame behavior). To access a value by position, use `ser.iloc[pos]`\n",
      "  current_volume = stock_data['Volume'][0] if not stock_data.empty else None\n",
      "/var/folders/9b/x2ln5s1x0x97knwyr1569h3r0000gn/T/ipykernel_54759/3377017286.py:39: FutureWarning: Series.__getitem__ treating keys as positions is deprecated. In a future version, integer keys will always be treated as labels (consistent with DataFrame behavior). To access a value by position, use `ser.iloc[pos]`\n",
      "  current_volume = stock_data['Volume'][0] if not stock_data.empty else None\n",
      "/var/folders/9b/x2ln5s1x0x97knwyr1569h3r0000gn/T/ipykernel_54759/3377017286.py:39: FutureWarning: Series.__getitem__ treating keys as positions is deprecated. In a future version, integer keys will always be treated as labels (consistent with DataFrame behavior). To access a value by position, use `ser.iloc[pos]`\n",
      "  current_volume = stock_data['Volume'][0] if not stock_data.empty else None\n",
      "/var/folders/9b/x2ln5s1x0x97knwyr1569h3r0000gn/T/ipykernel_54759/3377017286.py:39: FutureWarning: Series.__getitem__ treating keys as positions is deprecated. In a future version, integer keys will always be treated as labels (consistent with DataFrame behavior). To access a value by position, use `ser.iloc[pos]`\n",
      "  current_volume = stock_data['Volume'][0] if not stock_data.empty else None\n",
      "/var/folders/9b/x2ln5s1x0x97knwyr1569h3r0000gn/T/ipykernel_54759/3377017286.py:39: FutureWarning: Series.__getitem__ treating keys as positions is deprecated. In a future version, integer keys will always be treated as labels (consistent with DataFrame behavior). To access a value by position, use `ser.iloc[pos]`\n",
      "  current_volume = stock_data['Volume'][0] if not stock_data.empty else None\n",
      "/var/folders/9b/x2ln5s1x0x97knwyr1569h3r0000gn/T/ipykernel_54759/3377017286.py:39: FutureWarning: Series.__getitem__ treating keys as positions is deprecated. In a future version, integer keys will always be treated as labels (consistent with DataFrame behavior). To access a value by position, use `ser.iloc[pos]`\n",
      "  current_volume = stock_data['Volume'][0] if not stock_data.empty else None\n",
      "/var/folders/9b/x2ln5s1x0x97knwyr1569h3r0000gn/T/ipykernel_54759/3377017286.py:39: FutureWarning: Series.__getitem__ treating keys as positions is deprecated. In a future version, integer keys will always be treated as labels (consistent with DataFrame behavior). To access a value by position, use `ser.iloc[pos]`\n",
      "  current_volume = stock_data['Volume'][0] if not stock_data.empty else None\n",
      "/var/folders/9b/x2ln5s1x0x97knwyr1569h3r0000gn/T/ipykernel_54759/3377017286.py:39: FutureWarning: Series.__getitem__ treating keys as positions is deprecated. In a future version, integer keys will always be treated as labels (consistent with DataFrame behavior). To access a value by position, use `ser.iloc[pos]`\n",
      "  current_volume = stock_data['Volume'][0] if not stock_data.empty else None\n",
      "/var/folders/9b/x2ln5s1x0x97knwyr1569h3r0000gn/T/ipykernel_54759/3377017286.py:39: FutureWarning: Series.__getitem__ treating keys as positions is deprecated. In a future version, integer keys will always be treated as labels (consistent with DataFrame behavior). To access a value by position, use `ser.iloc[pos]`\n",
      "  current_volume = stock_data['Volume'][0] if not stock_data.empty else None\n",
      "/var/folders/9b/x2ln5s1x0x97knwyr1569h3r0000gn/T/ipykernel_54759/3377017286.py:39: FutureWarning: Series.__getitem__ treating keys as positions is deprecated. In a future version, integer keys will always be treated as labels (consistent with DataFrame behavior). To access a value by position, use `ser.iloc[pos]`\n",
      "  current_volume = stock_data['Volume'][0] if not stock_data.empty else None\n",
      "/var/folders/9b/x2ln5s1x0x97knwyr1569h3r0000gn/T/ipykernel_54759/3377017286.py:39: FutureWarning: Series.__getitem__ treating keys as positions is deprecated. In a future version, integer keys will always be treated as labels (consistent with DataFrame behavior). To access a value by position, use `ser.iloc[pos]`\n",
      "  current_volume = stock_data['Volume'][0] if not stock_data.empty else None\n",
      "/var/folders/9b/x2ln5s1x0x97knwyr1569h3r0000gn/T/ipykernel_54759/3377017286.py:39: FutureWarning: Series.__getitem__ treating keys as positions is deprecated. In a future version, integer keys will always be treated as labels (consistent with DataFrame behavior). To access a value by position, use `ser.iloc[pos]`\n",
      "  current_volume = stock_data['Volume'][0] if not stock_data.empty else None\n",
      "/var/folders/9b/x2ln5s1x0x97knwyr1569h3r0000gn/T/ipykernel_54759/3377017286.py:39: FutureWarning: Series.__getitem__ treating keys as positions is deprecated. In a future version, integer keys will always be treated as labels (consistent with DataFrame behavior). To access a value by position, use `ser.iloc[pos]`\n",
      "  current_volume = stock_data['Volume'][0] if not stock_data.empty else None\n",
      "/var/folders/9b/x2ln5s1x0x97knwyr1569h3r0000gn/T/ipykernel_54759/3377017286.py:39: FutureWarning: Series.__getitem__ treating keys as positions is deprecated. In a future version, integer keys will always be treated as labels (consistent with DataFrame behavior). To access a value by position, use `ser.iloc[pos]`\n",
      "  current_volume = stock_data['Volume'][0] if not stock_data.empty else None\n",
      "/var/folders/9b/x2ln5s1x0x97knwyr1569h3r0000gn/T/ipykernel_54759/3377017286.py:39: FutureWarning: Series.__getitem__ treating keys as positions is deprecated. In a future version, integer keys will always be treated as labels (consistent with DataFrame behavior). To access a value by position, use `ser.iloc[pos]`\n",
      "  current_volume = stock_data['Volume'][0] if not stock_data.empty else None\n",
      "/var/folders/9b/x2ln5s1x0x97knwyr1569h3r0000gn/T/ipykernel_54759/3377017286.py:39: FutureWarning: Series.__getitem__ treating keys as positions is deprecated. In a future version, integer keys will always be treated as labels (consistent with DataFrame behavior). To access a value by position, use `ser.iloc[pos]`\n",
      "  current_volume = stock_data['Volume'][0] if not stock_data.empty else None\n",
      "/var/folders/9b/x2ln5s1x0x97knwyr1569h3r0000gn/T/ipykernel_54759/3377017286.py:39: FutureWarning: Series.__getitem__ treating keys as positions is deprecated. In a future version, integer keys will always be treated as labels (consistent with DataFrame behavior). To access a value by position, use `ser.iloc[pos]`\n",
      "  current_volume = stock_data['Volume'][0] if not stock_data.empty else None\n",
      "/var/folders/9b/x2ln5s1x0x97knwyr1569h3r0000gn/T/ipykernel_54759/3377017286.py:39: FutureWarning: Series.__getitem__ treating keys as positions is deprecated. In a future version, integer keys will always be treated as labels (consistent with DataFrame behavior). To access a value by position, use `ser.iloc[pos]`\n",
      "  current_volume = stock_data['Volume'][0] if not stock_data.empty else None\n",
      "/var/folders/9b/x2ln5s1x0x97knwyr1569h3r0000gn/T/ipykernel_54759/3377017286.py:39: FutureWarning: Series.__getitem__ treating keys as positions is deprecated. In a future version, integer keys will always be treated as labels (consistent with DataFrame behavior). To access a value by position, use `ser.iloc[pos]`\n",
      "  current_volume = stock_data['Volume'][0] if not stock_data.empty else None\n",
      "/var/folders/9b/x2ln5s1x0x97knwyr1569h3r0000gn/T/ipykernel_54759/3377017286.py:39: FutureWarning: Series.__getitem__ treating keys as positions is deprecated. In a future version, integer keys will always be treated as labels (consistent with DataFrame behavior). To access a value by position, use `ser.iloc[pos]`\n",
      "  current_volume = stock_data['Volume'][0] if not stock_data.empty else None\n",
      "/var/folders/9b/x2ln5s1x0x97knwyr1569h3r0000gn/T/ipykernel_54759/3377017286.py:39: FutureWarning: Series.__getitem__ treating keys as positions is deprecated. In a future version, integer keys will always be treated as labels (consistent with DataFrame behavior). To access a value by position, use `ser.iloc[pos]`\n",
      "  current_volume = stock_data['Volume'][0] if not stock_data.empty else None\n",
      "/var/folders/9b/x2ln5s1x0x97knwyr1569h3r0000gn/T/ipykernel_54759/3377017286.py:39: FutureWarning: Series.__getitem__ treating keys as positions is deprecated. In a future version, integer keys will always be treated as labels (consistent with DataFrame behavior). To access a value by position, use `ser.iloc[pos]`\n",
      "  current_volume = stock_data['Volume'][0] if not stock_data.empty else None\n",
      "/var/folders/9b/x2ln5s1x0x97knwyr1569h3r0000gn/T/ipykernel_54759/3377017286.py:39: FutureWarning: Series.__getitem__ treating keys as positions is deprecated. In a future version, integer keys will always be treated as labels (consistent with DataFrame behavior). To access a value by position, use `ser.iloc[pos]`\n",
      "  current_volume = stock_data['Volume'][0] if not stock_data.empty else None\n",
      "/var/folders/9b/x2ln5s1x0x97knwyr1569h3r0000gn/T/ipykernel_54759/3377017286.py:39: FutureWarning: Series.__getitem__ treating keys as positions is deprecated. In a future version, integer keys will always be treated as labels (consistent with DataFrame behavior). To access a value by position, use `ser.iloc[pos]`\n",
      "  current_volume = stock_data['Volume'][0] if not stock_data.empty else None\n",
      "/var/folders/9b/x2ln5s1x0x97knwyr1569h3r0000gn/T/ipykernel_54759/3377017286.py:39: FutureWarning: Series.__getitem__ treating keys as positions is deprecated. In a future version, integer keys will always be treated as labels (consistent with DataFrame behavior). To access a value by position, use `ser.iloc[pos]`\n",
      "  current_volume = stock_data['Volume'][0] if not stock_data.empty else None\n",
      "/var/folders/9b/x2ln5s1x0x97knwyr1569h3r0000gn/T/ipykernel_54759/3377017286.py:39: FutureWarning: Series.__getitem__ treating keys as positions is deprecated. In a future version, integer keys will always be treated as labels (consistent with DataFrame behavior). To access a value by position, use `ser.iloc[pos]`\n",
      "  current_volume = stock_data['Volume'][0] if not stock_data.empty else None\n",
      "/var/folders/9b/x2ln5s1x0x97knwyr1569h3r0000gn/T/ipykernel_54759/3377017286.py:39: FutureWarning: Series.__getitem__ treating keys as positions is deprecated. In a future version, integer keys will always be treated as labels (consistent with DataFrame behavior). To access a value by position, use `ser.iloc[pos]`\n",
      "  current_volume = stock_data['Volume'][0] if not stock_data.empty else None\n",
      "/var/folders/9b/x2ln5s1x0x97knwyr1569h3r0000gn/T/ipykernel_54759/3377017286.py:39: FutureWarning: Series.__getitem__ treating keys as positions is deprecated. In a future version, integer keys will always be treated as labels (consistent with DataFrame behavior). To access a value by position, use `ser.iloc[pos]`\n",
      "  current_volume = stock_data['Volume'][0] if not stock_data.empty else None\n",
      "/var/folders/9b/x2ln5s1x0x97knwyr1569h3r0000gn/T/ipykernel_54759/3377017286.py:39: FutureWarning: Series.__getitem__ treating keys as positions is deprecated. In a future version, integer keys will always be treated as labels (consistent with DataFrame behavior). To access a value by position, use `ser.iloc[pos]`\n",
      "  current_volume = stock_data['Volume'][0] if not stock_data.empty else None\n",
      "/var/folders/9b/x2ln5s1x0x97knwyr1569h3r0000gn/T/ipykernel_54759/3377017286.py:39: FutureWarning: Series.__getitem__ treating keys as positions is deprecated. In a future version, integer keys will always be treated as labels (consistent with DataFrame behavior). To access a value by position, use `ser.iloc[pos]`\n",
      "  current_volume = stock_data['Volume'][0] if not stock_data.empty else None\n",
      "/var/folders/9b/x2ln5s1x0x97knwyr1569h3r0000gn/T/ipykernel_54759/3377017286.py:39: FutureWarning: Series.__getitem__ treating keys as positions is deprecated. In a future version, integer keys will always be treated as labels (consistent with DataFrame behavior). To access a value by position, use `ser.iloc[pos]`\n",
      "  current_volume = stock_data['Volume'][0] if not stock_data.empty else None\n",
      "/var/folders/9b/x2ln5s1x0x97knwyr1569h3r0000gn/T/ipykernel_54759/3377017286.py:39: FutureWarning: Series.__getitem__ treating keys as positions is deprecated. In a future version, integer keys will always be treated as labels (consistent with DataFrame behavior). To access a value by position, use `ser.iloc[pos]`\n",
      "  current_volume = stock_data['Volume'][0] if not stock_data.empty else None\n",
      "/var/folders/9b/x2ln5s1x0x97knwyr1569h3r0000gn/T/ipykernel_54759/3377017286.py:39: FutureWarning: Series.__getitem__ treating keys as positions is deprecated. In a future version, integer keys will always be treated as labels (consistent with DataFrame behavior). To access a value by position, use `ser.iloc[pos]`\n",
      "  current_volume = stock_data['Volume'][0] if not stock_data.empty else None\n",
      "/var/folders/9b/x2ln5s1x0x97knwyr1569h3r0000gn/T/ipykernel_54759/3377017286.py:39: FutureWarning: Series.__getitem__ treating keys as positions is deprecated. In a future version, integer keys will always be treated as labels (consistent with DataFrame behavior). To access a value by position, use `ser.iloc[pos]`\n",
      "  current_volume = stock_data['Volume'][0] if not stock_data.empty else None\n",
      "/var/folders/9b/x2ln5s1x0x97knwyr1569h3r0000gn/T/ipykernel_54759/3377017286.py:39: FutureWarning: Series.__getitem__ treating keys as positions is deprecated. In a future version, integer keys will always be treated as labels (consistent with DataFrame behavior). To access a value by position, use `ser.iloc[pos]`\n",
      "  current_volume = stock_data['Volume'][0] if not stock_data.empty else None\n",
      "/var/folders/9b/x2ln5s1x0x97knwyr1569h3r0000gn/T/ipykernel_54759/3377017286.py:39: FutureWarning: Series.__getitem__ treating keys as positions is deprecated. In a future version, integer keys will always be treated as labels (consistent with DataFrame behavior). To access a value by position, use `ser.iloc[pos]`\n",
      "  current_volume = stock_data['Volume'][0] if not stock_data.empty else None\n",
      "/var/folders/9b/x2ln5s1x0x97knwyr1569h3r0000gn/T/ipykernel_54759/3377017286.py:39: FutureWarning: Series.__getitem__ treating keys as positions is deprecated. In a future version, integer keys will always be treated as labels (consistent with DataFrame behavior). To access a value by position, use `ser.iloc[pos]`\n",
      "  current_volume = stock_data['Volume'][0] if not stock_data.empty else None\n",
      "/var/folders/9b/x2ln5s1x0x97knwyr1569h3r0000gn/T/ipykernel_54759/3377017286.py:39: FutureWarning: Series.__getitem__ treating keys as positions is deprecated. In a future version, integer keys will always be treated as labels (consistent with DataFrame behavior). To access a value by position, use `ser.iloc[pos]`\n",
      "  current_volume = stock_data['Volume'][0] if not stock_data.empty else None\n",
      "/var/folders/9b/x2ln5s1x0x97knwyr1569h3r0000gn/T/ipykernel_54759/3377017286.py:39: FutureWarning: Series.__getitem__ treating keys as positions is deprecated. In a future version, integer keys will always be treated as labels (consistent with DataFrame behavior). To access a value by position, use `ser.iloc[pos]`\n",
      "  current_volume = stock_data['Volume'][0] if not stock_data.empty else None\n",
      "/var/folders/9b/x2ln5s1x0x97knwyr1569h3r0000gn/T/ipykernel_54759/3377017286.py:39: FutureWarning: Series.__getitem__ treating keys as positions is deprecated. In a future version, integer keys will always be treated as labels (consistent with DataFrame behavior). To access a value by position, use `ser.iloc[pos]`\n",
      "  current_volume = stock_data['Volume'][0] if not stock_data.empty else None\n",
      "/var/folders/9b/x2ln5s1x0x97knwyr1569h3r0000gn/T/ipykernel_54759/3377017286.py:39: FutureWarning: Series.__getitem__ treating keys as positions is deprecated. In a future version, integer keys will always be treated as labels (consistent with DataFrame behavior). To access a value by position, use `ser.iloc[pos]`\n",
      "  current_volume = stock_data['Volume'][0] if not stock_data.empty else None\n",
      "/var/folders/9b/x2ln5s1x0x97knwyr1569h3r0000gn/T/ipykernel_54759/3377017286.py:39: FutureWarning: Series.__getitem__ treating keys as positions is deprecated. In a future version, integer keys will always be treated as labels (consistent with DataFrame behavior). To access a value by position, use `ser.iloc[pos]`\n",
      "  current_volume = stock_data['Volume'][0] if not stock_data.empty else None\n",
      "/var/folders/9b/x2ln5s1x0x97knwyr1569h3r0000gn/T/ipykernel_54759/3377017286.py:39: FutureWarning: Series.__getitem__ treating keys as positions is deprecated. In a future version, integer keys will always be treated as labels (consistent with DataFrame behavior). To access a value by position, use `ser.iloc[pos]`\n",
      "  current_volume = stock_data['Volume'][0] if not stock_data.empty else None\n",
      "/var/folders/9b/x2ln5s1x0x97knwyr1569h3r0000gn/T/ipykernel_54759/3377017286.py:39: FutureWarning: Series.__getitem__ treating keys as positions is deprecated. In a future version, integer keys will always be treated as labels (consistent with DataFrame behavior). To access a value by position, use `ser.iloc[pos]`\n",
      "  current_volume = stock_data['Volume'][0] if not stock_data.empty else None\n",
      "/var/folders/9b/x2ln5s1x0x97knwyr1569h3r0000gn/T/ipykernel_54759/3377017286.py:39: FutureWarning: Series.__getitem__ treating keys as positions is deprecated. In a future version, integer keys will always be treated as labels (consistent with DataFrame behavior). To access a value by position, use `ser.iloc[pos]`\n",
      "  current_volume = stock_data['Volume'][0] if not stock_data.empty else None\n"
     ]
    }
   ],
   "source": [
    "big_data1 = get_news_data_from_json('gainers.json')"
   ]
  },
  {
   "cell_type": "code",
   "execution_count": 6,
   "metadata": {},
   "outputs": [
    {
     "data": {
      "text/html": [
       "<div>\n",
       "<style scoped>\n",
       "    .dataframe tbody tr th:only-of-type {\n",
       "        vertical-align: middle;\n",
       "    }\n",
       "\n",
       "    .dataframe tbody tr th {\n",
       "        vertical-align: top;\n",
       "    }\n",
       "\n",
       "    .dataframe thead th {\n",
       "        text-align: right;\n",
       "    }\n",
       "</style>\n",
       "<table border=\"1\" class=\"dataframe\">\n",
       "  <thead>\n",
       "    <tr style=\"text-align: right;\">\n",
       "      <th></th>\n",
       "      <th>Symbol</th>\n",
       "      <th>Percent Change</th>\n",
       "      <th>Summary</th>\n",
       "      <th>Published</th>\n",
       "      <th>Link</th>\n",
       "      <th>Current Price</th>\n",
       "      <th>Float</th>\n",
       "      <th>Average Volume</th>\n",
       "      <th>Current Volume</th>\n",
       "    </tr>\n",
       "  </thead>\n",
       "  <tbody>\n",
       "    <tr>\n",
       "      <th>0</th>\n",
       "      <td>VEEA</td>\n",
       "      <td>220.7547</td>\n",
       "      <td>Crowdkeep and VEEA Announce Strategic Partners...</td>\n",
       "      <td>Wed, 18 Sep 2024 12:30:00</td>\n",
       "      <td>https://finance.yahoo.com/news/crowdkeep-veea-...</td>\n",
       "      <td>17.0</td>\n",
       "      <td>NaN</td>\n",
       "      <td>16280</td>\n",
       "      <td>5794679</td>\n",
       "    </tr>\n",
       "    <tr>\n",
       "      <th>1</th>\n",
       "      <td>VEEA</td>\n",
       "      <td>220.7547</td>\n",
       "      <td>Veea Inc. and Plum Acquisition Corp. I Announc...</td>\n",
       "      <td>Mon, 16 Sep 2024 12:30:00</td>\n",
       "      <td>https://finance.yahoo.com/news/veea-inc-plum-a...</td>\n",
       "      <td>17.0</td>\n",
       "      <td>NaN</td>\n",
       "      <td>16280</td>\n",
       "      <td>5794679</td>\n",
       "    </tr>\n",
       "    <tr>\n",
       "      <th>2</th>\n",
       "      <td>OMEX</td>\n",
       "      <td>201.0617</td>\n",
       "      <td>Odyssey Marine Exploration Reports Win in NAFT...</td>\n",
       "      <td>Tue, 17 Sep 2024 18:02:00</td>\n",
       "      <td>https://finance.yahoo.com/news/odyssey-marine-...</td>\n",
       "      <td>1.5</td>\n",
       "      <td>15506594.0</td>\n",
       "      <td>614872</td>\n",
       "      <td>312796453</td>\n",
       "    </tr>\n",
       "    <tr>\n",
       "      <th>3</th>\n",
       "      <td>OMEX</td>\n",
       "      <td>201.0617</td>\n",
       "      <td>While institutions invested in Odyssey Marine ...</td>\n",
       "      <td>Sat, 14 Sep 2024 14:35:02</td>\n",
       "      <td>https://finance.yahoo.com/news/while-instituti...</td>\n",
       "      <td>1.5</td>\n",
       "      <td>15506594.0</td>\n",
       "      <td>614872</td>\n",
       "      <td>312796453</td>\n",
       "    </tr>\n",
       "    <tr>\n",
       "      <th>4</th>\n",
       "      <td>OMEX</td>\n",
       "      <td>201.0617</td>\n",
       "      <td>Odyssey Marine Exploration Reports Second Quar...</td>\n",
       "      <td>Fri, 09 Aug 2024 12:30:00</td>\n",
       "      <td>https://finance.yahoo.com/news/odyssey-marine-...</td>\n",
       "      <td>1.5</td>\n",
       "      <td>15506594.0</td>\n",
       "      <td>614872</td>\n",
       "      <td>312796453</td>\n",
       "    </tr>\n",
       "  </tbody>\n",
       "</table>\n",
       "</div>"
      ],
      "text/plain": [
       "  Symbol  Percent Change                                            Summary  \\\n",
       "0   VEEA        220.7547  Crowdkeep and VEEA Announce Strategic Partners...   \n",
       "1   VEEA        220.7547  Veea Inc. and Plum Acquisition Corp. I Announc...   \n",
       "2   OMEX        201.0617  Odyssey Marine Exploration Reports Win in NAFT...   \n",
       "3   OMEX        201.0617  While institutions invested in Odyssey Marine ...   \n",
       "4   OMEX        201.0617  Odyssey Marine Exploration Reports Second Quar...   \n",
       "\n",
       "                   Published  \\\n",
       "0  Wed, 18 Sep 2024 12:30:00   \n",
       "1  Mon, 16 Sep 2024 12:30:00   \n",
       "2  Tue, 17 Sep 2024 18:02:00   \n",
       "3  Sat, 14 Sep 2024 14:35:02   \n",
       "4  Fri, 09 Aug 2024 12:30:00   \n",
       "\n",
       "                                                Link  Current Price  \\\n",
       "0  https://finance.yahoo.com/news/crowdkeep-veea-...           17.0   \n",
       "1  https://finance.yahoo.com/news/veea-inc-plum-a...           17.0   \n",
       "2  https://finance.yahoo.com/news/odyssey-marine-...            1.5   \n",
       "3  https://finance.yahoo.com/news/while-instituti...            1.5   \n",
       "4  https://finance.yahoo.com/news/odyssey-marine-...            1.5   \n",
       "\n",
       "        Float  Average Volume  Current Volume  \n",
       "0         NaN           16280         5794679  \n",
       "1         NaN           16280         5794679  \n",
       "2  15506594.0          614872       312796453  \n",
       "3  15506594.0          614872       312796453  \n",
       "4  15506594.0          614872       312796453  "
      ]
     },
     "execution_count": 6,
     "metadata": {},
     "output_type": "execute_result"
    }
   ],
   "source": [
    "big_data1.head()"
   ]
  },
  {
   "cell_type": "code",
   "execution_count": 7,
   "metadata": {},
   "outputs": [],
   "source": [
    "from datetime import datetime, timedelta\n",
    "big_data1['Published'] = pd.to_datetime(big_data1['Published'])\n",
    "current_date = datetime.now()\n",
    "two_weeks_ago = current_date - timedelta(weeks=2)\n",
    "big_data2 = big_data1[big_data1['Published'] >= two_weeks_ago]"
   ]
  },
  {
   "cell_type": "code",
   "execution_count": 8,
   "metadata": {},
   "outputs": [],
   "source": [
    "big_data3 = big_data2[(big_data2['Current Volume'] >= 5 * big_data2['Average Volume']) &\n",
    "                 (big_data2['Float'] <= 10000000) &\n",
    "                 (big_data2['Current Price'] <= 20)]"
   ]
  },
  {
   "cell_type": "code",
   "execution_count": 3,
   "metadata": {},
   "outputs": [
    {
     "name": "stderr",
     "output_type": "stream",
     "text": [
      "/Users/benbaize/anaconda3/envs/stock_dashboard/lib/python3.11/site-packages/tqdm/auto.py:21: TqdmWarning: IProgress not found. Please update jupyter and ipywidgets. See https://ipywidgets.readthedocs.io/en/stable/user_install.html\n",
      "  from .autonotebook import tqdm as notebook_tqdm\n",
      "/Users/benbaize/anaconda3/envs/stock_dashboard/lib/python3.11/site-packages/transformers/tokenization_utils_base.py:1601: FutureWarning: `clean_up_tokenization_spaces` was not set. It will be set to `True` by default. This behavior will be depracted in transformers v4.45, and will be then set to `False` by default. For more details check this issue: https://github.com/huggingface/transformers/issues/31884\n",
      "  warnings.warn(\n"
     ]
    }
   ],
   "source": [
    "from pysentimiento import create_analyzer\n",
    "analyzer = create_analyzer(task=\"sentiment\", lang=\"en\")"
   ]
  },
  {
   "cell_type": "code",
   "execution_count": 9,
   "metadata": {},
   "outputs": [
    {
     "name": "stderr",
     "output_type": "stream",
     "text": [
      "/var/folders/9b/x2ln5s1x0x97knwyr1569h3r0000gn/T/ipykernel_54759/1242695532.py:2: SettingWithCopyWarning: \n",
      "A value is trying to be set on a copy of a slice from a DataFrame.\n",
      "Try using .loc[row_indexer,col_indexer] = value instead\n",
      "\n",
      "See the caveats in the documentation: https://pandas.pydata.org/pandas-docs/stable/user_guide/indexing.html#returning-a-view-versus-a-copy\n",
      "  big_data3['Neg'] = None\n",
      "/var/folders/9b/x2ln5s1x0x97knwyr1569h3r0000gn/T/ipykernel_54759/1242695532.py:3: SettingWithCopyWarning: \n",
      "A value is trying to be set on a copy of a slice from a DataFrame.\n",
      "Try using .loc[row_indexer,col_indexer] = value instead\n",
      "\n",
      "See the caveats in the documentation: https://pandas.pydata.org/pandas-docs/stable/user_guide/indexing.html#returning-a-view-versus-a-copy\n",
      "  big_data3['Neo'] = None\n",
      "/var/folders/9b/x2ln5s1x0x97knwyr1569h3r0000gn/T/ipykernel_54759/1242695532.py:4: SettingWithCopyWarning: \n",
      "A value is trying to be set on a copy of a slice from a DataFrame.\n",
      "Try using .loc[row_indexer,col_indexer] = value instead\n",
      "\n",
      "See the caveats in the documentation: https://pandas.pydata.org/pandas-docs/stable/user_guide/indexing.html#returning-a-view-versus-a-copy\n",
      "  big_data3['Pos'] = None\n"
     ]
    }
   ],
   "source": [
    "# Create new columns to store the sentiment scores (NEG, NEU, POS)\n",
    "big_data3['Neg'] = None\n",
    "big_data3['Neo'] = None\n",
    "big_data3['Pos'] = None\n",
    "\n",
    "# Loop through each row in the dataframe and apply the analyzer to the Summary column\n",
    "for index, row in big_data3.iterrows():\n",
    "    result = analyzer.predict(row['Summary'])\n",
    "    # Store the probabilities in the respective columns\n",
    "    big_data3.at[index, 'Neg'] = result.probas['NEG']\n",
    "    big_data3.at[index, 'Neo'] = result.probas['NEU']\n",
    "    big_data3.at[index, 'Pos'] = result.probas['POS']"
   ]
  },
  {
   "cell_type": "code",
   "execution_count": null,
   "metadata": {},
   "outputs": [],
   "source": []
  }
 ],
 "metadata": {
  "kernelspec": {
   "display_name": "base",
   "language": "python",
   "name": "python3"
  },
  "language_info": {
   "codemirror_mode": {
    "name": "ipython",
    "version": 3
   },
   "file_extension": ".py",
   "mimetype": "text/x-python",
   "name": "python",
   "nbconvert_exporter": "python",
   "pygments_lexer": "ipython3",
   "version": "3.11.10"
  }
 },
 "nbformat": 4,
 "nbformat_minor": 2
}
