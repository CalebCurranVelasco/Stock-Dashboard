{
 "cells": [
  {
   "cell_type": "markdown",
   "metadata": {},
   "source": [
    "## Retrieve Top Gainers Json (Careful, Limited API Usages)"
   ]
  },
  {
   "cell_type": "code",
   "execution_count": 19,
   "metadata": {},
   "outputs": [
    {
     "name": "stdout",
     "output_type": "stream",
     "text": [
      "Data successfully saved to gainers.json\n"
     ]
    }
   ],
   "source": [
    "import requests\n",
    "import json\n",
    "\n",
    "def fetch_gainers_and_save_to_json():\n",
    "    # Define the API endpoint\n",
    "    url = \"https://financialmodelingprep.com/api/v3/stock_market/gainers?apikey=47aF67g8nwXCiKguRSbHRy3WfKuQFPPq\"\n",
    "\n",
    "    # Send a GET request to the API\n",
    "    response = requests.get(url)\n",
    "\n",
    "    # Check if the request was successful\n",
    "    if response.status_code == 200:\n",
    "        # Parse the response content into JSON\n",
    "        gainers_data = response.json()\n",
    "        \n",
    "        # Save the data into a JSON file\n",
    "        with open('gainers.json', 'w') as json_file:\n",
    "            json.dump(gainers_data, json_file, indent=4)\n",
    "        \n",
    "        print(\"Data successfully saved to gainers.json\")\n",
    "    else:\n",
    "        print(f\"Failed to fetch data. Status code: {response.status_code}, Error: {response.text}\")\n",
    "\n",
    "# Fetch gainers and save them to a JSON file\n",
    "fetch_gainers_and_save_to_json()\n"
   ]
  },
  {
   "cell_type": "markdown",
   "metadata": {},
   "source": [
    "## OVERALL DASHBOARD CREATION"
   ]
  },
  {
   "cell_type": "code",
   "execution_count": 20,
   "metadata": {},
   "outputs": [
    {
     "name": "stderr",
     "output_type": "stream",
     "text": [
      "/Users/benbaize/anaconda3/envs/stock_dashboard/lib/python3.11/site-packages/transformers/tokenization_utils_base.py:1601: FutureWarning: `clean_up_tokenization_spaces` was not set. It will be set to `True` by default. This behavior will be depracted in transformers v4.45, and will be then set to `False` by default. For more details check this issue: https://github.com/huggingface/transformers/issues/31884\n",
      "  warnings.warn(\n"
     ]
    }
   ],
   "source": [
    "import json\n",
    "import pandas as pd\n",
    "import yahoo_fin.stock_info as si\n",
    "from yahoo_fin import news\n",
    "import yfinance as yf\n",
    "from pysentimiento import create_analyzer\n",
    "\n",
    "analyzer = create_analyzer(task=\"sentiment\", lang=\"en\")\n",
    "\n",
    "# Define the function to fetch and convert news to DataFrame\n",
    "def get_news_data_from_json(json_file_path: str):\n",
    "    # Load the JSON file with the symbols\n",
    "    with open(json_file_path, 'r') as f:\n",
    "        data = json.load(f)\n",
    "    \n",
    "    # Initialize lists to store all symbols' news data\n",
    "    all_titles = []\n",
    "    all_published_dates = []\n",
    "    all_links = []\n",
    "    all_symbols = []\n",
    "    all_percent_changes = []\n",
    "    all_current_prices = []\n",
    "    all_floats = []\n",
    "    all_avg_volumes = []\n",
    "    all_current_volumes = []\n",
    "    \n",
    "    # Iterate through the data\n",
    "    for item in data:\n",
    "        symbol = item['symbol']\n",
    "        percent_change = item['changesPercentage']\n",
    "        price = item['price']\n",
    "        # Fetch the stock data using yfinance\n",
    "        stock = yf.Ticker(symbol)\n",
    "        stock_info = stock.info\n",
    "        \n",
    "        # Fetch the current price, float, average volume, and current volume\n",
    "        float_shares = stock_info.get('floatShares')\n",
    "        average_volume = stock_info.get('averageVolume')\n",
    "        \n",
    "        # Fetch the latest trading day's data for the current volume\n",
    "        stock_data = stock.history(period='1d')\n",
    "        current_volume = stock_data['Volume'][0] if not stock_data.empty else None\n",
    "\n",
    "        # Fetch the news using the provided symbol\n",
    "        news_data = news.get_yf_rss(symbol)\n",
    "        \n",
    "        # Process each article in the news list\n",
    "        for article in news_data:\n",
    "            # Crop the title if it's too long\n",
    "            cropped_title = article['title']\n",
    "            published = article['published'][:25]\n",
    "            \n",
    "            # Append data to the respective lists\n",
    "            all_titles.append(cropped_title)\n",
    "            all_published_dates.append(published)\n",
    "            all_links.append(article['link'])\n",
    "            all_symbols.append(symbol)\n",
    "            all_percent_changes.append(percent_change)\n",
    "            all_current_prices.append(price)\n",
    "            all_floats.append(float_shares)\n",
    "            all_avg_volumes.append(average_volume)\n",
    "            all_current_volumes.append(current_volume)\n",
    "    \n",
    "    # Create a DataFrame from the lists\n",
    "    df = pd.DataFrame({\n",
    "        'Symbol': all_symbols,\n",
    "        'Percent Change': all_percent_changes,\n",
    "        'Summary': all_titles,\n",
    "        'Published': all_published_dates,\n",
    "        'Link': all_links,\n",
    "        'Current Price': all_current_prices,\n",
    "        'Float': all_floats,\n",
    "        'Average Volume': all_avg_volumes,\n",
    "        'Current Volume': all_current_volumes\n",
    "    })\n",
    "    \n",
    "    return df\n",
    "\n",
    "# Example usage:\n",
    "# json_file_path = 'path_to_your_json_file.json'\n",
    "# news_df = get_news_data_from_json(json_file_path)\n"
   ]
  },
  {
   "cell_type": "code",
   "execution_count": null,
   "metadata": {},
   "outputs": [],
   "source": [
    "from datetime import datetime, timedelta\n",
    "def filter_time(big_data1):\n",
    "    big_data1['Published'] = pd.to_datetime(big_data1['Published'])\n",
    "    current_date = datetime.now()\n",
    "    two_weeks_ago = current_date - timedelta(weeks=2)\n",
    "    big_data2 = big_data1[big_data1['Published'] >= two_weeks_ago]\n",
    "    return big_data2"
   ]
  },
  {
   "cell_type": "code",
   "execution_count": null,
   "metadata": {},
   "outputs": [],
   "source": [
    "def filter_strategy(big_data2):\n",
    "    big_data3 = big_data2[(big_data2['Current Volume'] >= 5 * big_data2['Average Volume']) &\n",
    "                    (big_data2['Float'] <= 10000000) &\n",
    "                    (big_data2['Current Price'] <= 20)]\n",
    "    return big_data3"
   ]
  },
  {
   "cell_type": "code",
   "execution_count": null,
   "metadata": {},
   "outputs": [],
   "source": [
    "def sentiment(big_data3): \n",
    "   # Create new columns to store the sentiment scores (NEG, NEU, POS)\n",
    "    big_data3['Neg'] = None\n",
    "    big_data3['Neo'] = None\n",
    "    big_data3['Pos'] = None\n",
    "\n",
    "    # Loop through each row in the dataframe and apply the analyzer to the Summary column\n",
    "    for index, row in big_data3.iterrows():\n",
    "        result = analyzer.predict(row['Summary'])\n",
    "        # Store the probabilities in the respective columns\n",
    "        big_data3.at[index, 'Neg'] = result.probas['NEG']\n",
    "        big_data3.at[index, 'Neo'] = result.probas['NEU']\n",
    "        big_data3.at[index, 'Pos'] = result.probas['POS']\n",
    "    return big_data3"
   ]
  },
  {
   "cell_type": "code",
   "execution_count": 29,
   "metadata": {},
   "outputs": [
    {
     "name": "stdout",
     "output_type": "stream",
     "text": [
      "Data successfully saved to gainers.json\n"
     ]
    },
    {
     "name": "stderr",
     "output_type": "stream",
     "text": [
      "/var/folders/9b/x2ln5s1x0x97knwyr1569h3r0000gn/T/ipykernel_39361/1175524677.py:42: FutureWarning: Series.__getitem__ treating keys as positions is deprecated. In a future version, integer keys will always be treated as labels (consistent with DataFrame behavior). To access a value by position, use `ser.iloc[pos]`\n",
      "  current_volume = stock_data['Volume'][0] if not stock_data.empty else None\n",
      "/var/folders/9b/x2ln5s1x0x97knwyr1569h3r0000gn/T/ipykernel_39361/1175524677.py:42: FutureWarning: Series.__getitem__ treating keys as positions is deprecated. In a future version, integer keys will always be treated as labels (consistent with DataFrame behavior). To access a value by position, use `ser.iloc[pos]`\n",
      "  current_volume = stock_data['Volume'][0] if not stock_data.empty else None\n",
      "/var/folders/9b/x2ln5s1x0x97knwyr1569h3r0000gn/T/ipykernel_39361/1175524677.py:42: FutureWarning: Series.__getitem__ treating keys as positions is deprecated. In a future version, integer keys will always be treated as labels (consistent with DataFrame behavior). To access a value by position, use `ser.iloc[pos]`\n",
      "  current_volume = stock_data['Volume'][0] if not stock_data.empty else None\n",
      "/var/folders/9b/x2ln5s1x0x97knwyr1569h3r0000gn/T/ipykernel_39361/1175524677.py:42: FutureWarning: Series.__getitem__ treating keys as positions is deprecated. In a future version, integer keys will always be treated as labels (consistent with DataFrame behavior). To access a value by position, use `ser.iloc[pos]`\n",
      "  current_volume = stock_data['Volume'][0] if not stock_data.empty else None\n",
      "/var/folders/9b/x2ln5s1x0x97knwyr1569h3r0000gn/T/ipykernel_39361/1175524677.py:42: FutureWarning: Series.__getitem__ treating keys as positions is deprecated. In a future version, integer keys will always be treated as labels (consistent with DataFrame behavior). To access a value by position, use `ser.iloc[pos]`\n",
      "  current_volume = stock_data['Volume'][0] if not stock_data.empty else None\n",
      "/var/folders/9b/x2ln5s1x0x97knwyr1569h3r0000gn/T/ipykernel_39361/1175524677.py:42: FutureWarning: Series.__getitem__ treating keys as positions is deprecated. In a future version, integer keys will always be treated as labels (consistent with DataFrame behavior). To access a value by position, use `ser.iloc[pos]`\n",
      "  current_volume = stock_data['Volume'][0] if not stock_data.empty else None\n",
      "/var/folders/9b/x2ln5s1x0x97knwyr1569h3r0000gn/T/ipykernel_39361/1175524677.py:42: FutureWarning: Series.__getitem__ treating keys as positions is deprecated. In a future version, integer keys will always be treated as labels (consistent with DataFrame behavior). To access a value by position, use `ser.iloc[pos]`\n",
      "  current_volume = stock_data['Volume'][0] if not stock_data.empty else None\n",
      "/var/folders/9b/x2ln5s1x0x97knwyr1569h3r0000gn/T/ipykernel_39361/1175524677.py:42: FutureWarning: Series.__getitem__ treating keys as positions is deprecated. In a future version, integer keys will always be treated as labels (consistent with DataFrame behavior). To access a value by position, use `ser.iloc[pos]`\n",
      "  current_volume = stock_data['Volume'][0] if not stock_data.empty else None\n",
      "/var/folders/9b/x2ln5s1x0x97knwyr1569h3r0000gn/T/ipykernel_39361/1175524677.py:42: FutureWarning: Series.__getitem__ treating keys as positions is deprecated. In a future version, integer keys will always be treated as labels (consistent with DataFrame behavior). To access a value by position, use `ser.iloc[pos]`\n",
      "  current_volume = stock_data['Volume'][0] if not stock_data.empty else None\n",
      "/var/folders/9b/x2ln5s1x0x97knwyr1569h3r0000gn/T/ipykernel_39361/1175524677.py:42: FutureWarning: Series.__getitem__ treating keys as positions is deprecated. In a future version, integer keys will always be treated as labels (consistent with DataFrame behavior). To access a value by position, use `ser.iloc[pos]`\n",
      "  current_volume = stock_data['Volume'][0] if not stock_data.empty else None\n",
      "/var/folders/9b/x2ln5s1x0x97knwyr1569h3r0000gn/T/ipykernel_39361/1175524677.py:42: FutureWarning: Series.__getitem__ treating keys as positions is deprecated. In a future version, integer keys will always be treated as labels (consistent with DataFrame behavior). To access a value by position, use `ser.iloc[pos]`\n",
      "  current_volume = stock_data['Volume'][0] if not stock_data.empty else None\n",
      "/var/folders/9b/x2ln5s1x0x97knwyr1569h3r0000gn/T/ipykernel_39361/1175524677.py:42: FutureWarning: Series.__getitem__ treating keys as positions is deprecated. In a future version, integer keys will always be treated as labels (consistent with DataFrame behavior). To access a value by position, use `ser.iloc[pos]`\n",
      "  current_volume = stock_data['Volume'][0] if not stock_data.empty else None\n",
      "/var/folders/9b/x2ln5s1x0x97knwyr1569h3r0000gn/T/ipykernel_39361/1175524677.py:42: FutureWarning: Series.__getitem__ treating keys as positions is deprecated. In a future version, integer keys will always be treated as labels (consistent with DataFrame behavior). To access a value by position, use `ser.iloc[pos]`\n",
      "  current_volume = stock_data['Volume'][0] if not stock_data.empty else None\n",
      "/var/folders/9b/x2ln5s1x0x97knwyr1569h3r0000gn/T/ipykernel_39361/1175524677.py:42: FutureWarning: Series.__getitem__ treating keys as positions is deprecated. In a future version, integer keys will always be treated as labels (consistent with DataFrame behavior). To access a value by position, use `ser.iloc[pos]`\n",
      "  current_volume = stock_data['Volume'][0] if not stock_data.empty else None\n",
      "/var/folders/9b/x2ln5s1x0x97knwyr1569h3r0000gn/T/ipykernel_39361/1175524677.py:42: FutureWarning: Series.__getitem__ treating keys as positions is deprecated. In a future version, integer keys will always be treated as labels (consistent with DataFrame behavior). To access a value by position, use `ser.iloc[pos]`\n",
      "  current_volume = stock_data['Volume'][0] if not stock_data.empty else None\n",
      "/var/folders/9b/x2ln5s1x0x97knwyr1569h3r0000gn/T/ipykernel_39361/1175524677.py:42: FutureWarning: Series.__getitem__ treating keys as positions is deprecated. In a future version, integer keys will always be treated as labels (consistent with DataFrame behavior). To access a value by position, use `ser.iloc[pos]`\n",
      "  current_volume = stock_data['Volume'][0] if not stock_data.empty else None\n",
      "/var/folders/9b/x2ln5s1x0x97knwyr1569h3r0000gn/T/ipykernel_39361/1175524677.py:42: FutureWarning: Series.__getitem__ treating keys as positions is deprecated. In a future version, integer keys will always be treated as labels (consistent with DataFrame behavior). To access a value by position, use `ser.iloc[pos]`\n",
      "  current_volume = stock_data['Volume'][0] if not stock_data.empty else None\n",
      "/var/folders/9b/x2ln5s1x0x97knwyr1569h3r0000gn/T/ipykernel_39361/1175524677.py:42: FutureWarning: Series.__getitem__ treating keys as positions is deprecated. In a future version, integer keys will always be treated as labels (consistent with DataFrame behavior). To access a value by position, use `ser.iloc[pos]`\n",
      "  current_volume = stock_data['Volume'][0] if not stock_data.empty else None\n",
      "/var/folders/9b/x2ln5s1x0x97knwyr1569h3r0000gn/T/ipykernel_39361/1175524677.py:42: FutureWarning: Series.__getitem__ treating keys as positions is deprecated. In a future version, integer keys will always be treated as labels (consistent with DataFrame behavior). To access a value by position, use `ser.iloc[pos]`\n",
      "  current_volume = stock_data['Volume'][0] if not stock_data.empty else None\n",
      "/var/folders/9b/x2ln5s1x0x97knwyr1569h3r0000gn/T/ipykernel_39361/1175524677.py:42: FutureWarning: Series.__getitem__ treating keys as positions is deprecated. In a future version, integer keys will always be treated as labels (consistent with DataFrame behavior). To access a value by position, use `ser.iloc[pos]`\n",
      "  current_volume = stock_data['Volume'][0] if not stock_data.empty else None\n",
      "/var/folders/9b/x2ln5s1x0x97knwyr1569h3r0000gn/T/ipykernel_39361/1175524677.py:42: FutureWarning: Series.__getitem__ treating keys as positions is deprecated. In a future version, integer keys will always be treated as labels (consistent with DataFrame behavior). To access a value by position, use `ser.iloc[pos]`\n",
      "  current_volume = stock_data['Volume'][0] if not stock_data.empty else None\n",
      "/var/folders/9b/x2ln5s1x0x97knwyr1569h3r0000gn/T/ipykernel_39361/1175524677.py:42: FutureWarning: Series.__getitem__ treating keys as positions is deprecated. In a future version, integer keys will always be treated as labels (consistent with DataFrame behavior). To access a value by position, use `ser.iloc[pos]`\n",
      "  current_volume = stock_data['Volume'][0] if not stock_data.empty else None\n",
      "/var/folders/9b/x2ln5s1x0x97knwyr1569h3r0000gn/T/ipykernel_39361/1175524677.py:42: FutureWarning: Series.__getitem__ treating keys as positions is deprecated. In a future version, integer keys will always be treated as labels (consistent with DataFrame behavior). To access a value by position, use `ser.iloc[pos]`\n",
      "  current_volume = stock_data['Volume'][0] if not stock_data.empty else None\n",
      "/var/folders/9b/x2ln5s1x0x97knwyr1569h3r0000gn/T/ipykernel_39361/1175524677.py:42: FutureWarning: Series.__getitem__ treating keys as positions is deprecated. In a future version, integer keys will always be treated as labels (consistent with DataFrame behavior). To access a value by position, use `ser.iloc[pos]`\n",
      "  current_volume = stock_data['Volume'][0] if not stock_data.empty else None\n",
      "/var/folders/9b/x2ln5s1x0x97knwyr1569h3r0000gn/T/ipykernel_39361/1175524677.py:42: FutureWarning: Series.__getitem__ treating keys as positions is deprecated. In a future version, integer keys will always be treated as labels (consistent with DataFrame behavior). To access a value by position, use `ser.iloc[pos]`\n",
      "  current_volume = stock_data['Volume'][0] if not stock_data.empty else None\n",
      "/var/folders/9b/x2ln5s1x0x97knwyr1569h3r0000gn/T/ipykernel_39361/1175524677.py:42: FutureWarning: Series.__getitem__ treating keys as positions is deprecated. In a future version, integer keys will always be treated as labels (consistent with DataFrame behavior). To access a value by position, use `ser.iloc[pos]`\n",
      "  current_volume = stock_data['Volume'][0] if not stock_data.empty else None\n",
      "/var/folders/9b/x2ln5s1x0x97knwyr1569h3r0000gn/T/ipykernel_39361/1175524677.py:42: FutureWarning: Series.__getitem__ treating keys as positions is deprecated. In a future version, integer keys will always be treated as labels (consistent with DataFrame behavior). To access a value by position, use `ser.iloc[pos]`\n",
      "  current_volume = stock_data['Volume'][0] if not stock_data.empty else None\n",
      "/var/folders/9b/x2ln5s1x0x97knwyr1569h3r0000gn/T/ipykernel_39361/1175524677.py:42: FutureWarning: Series.__getitem__ treating keys as positions is deprecated. In a future version, integer keys will always be treated as labels (consistent with DataFrame behavior). To access a value by position, use `ser.iloc[pos]`\n",
      "  current_volume = stock_data['Volume'][0] if not stock_data.empty else None\n",
      "/var/folders/9b/x2ln5s1x0x97knwyr1569h3r0000gn/T/ipykernel_39361/1175524677.py:42: FutureWarning: Series.__getitem__ treating keys as positions is deprecated. In a future version, integer keys will always be treated as labels (consistent with DataFrame behavior). To access a value by position, use `ser.iloc[pos]`\n",
      "  current_volume = stock_data['Volume'][0] if not stock_data.empty else None\n",
      "/var/folders/9b/x2ln5s1x0x97knwyr1569h3r0000gn/T/ipykernel_39361/1175524677.py:42: FutureWarning: Series.__getitem__ treating keys as positions is deprecated. In a future version, integer keys will always be treated as labels (consistent with DataFrame behavior). To access a value by position, use `ser.iloc[pos]`\n",
      "  current_volume = stock_data['Volume'][0] if not stock_data.empty else None\n",
      "/var/folders/9b/x2ln5s1x0x97knwyr1569h3r0000gn/T/ipykernel_39361/1175524677.py:42: FutureWarning: Series.__getitem__ treating keys as positions is deprecated. In a future version, integer keys will always be treated as labels (consistent with DataFrame behavior). To access a value by position, use `ser.iloc[pos]`\n",
      "  current_volume = stock_data['Volume'][0] if not stock_data.empty else None\n",
      "/var/folders/9b/x2ln5s1x0x97knwyr1569h3r0000gn/T/ipykernel_39361/1175524677.py:42: FutureWarning: Series.__getitem__ treating keys as positions is deprecated. In a future version, integer keys will always be treated as labels (consistent with DataFrame behavior). To access a value by position, use `ser.iloc[pos]`\n",
      "  current_volume = stock_data['Volume'][0] if not stock_data.empty else None\n",
      "/var/folders/9b/x2ln5s1x0x97knwyr1569h3r0000gn/T/ipykernel_39361/1175524677.py:42: FutureWarning: Series.__getitem__ treating keys as positions is deprecated. In a future version, integer keys will always be treated as labels (consistent with DataFrame behavior). To access a value by position, use `ser.iloc[pos]`\n",
      "  current_volume = stock_data['Volume'][0] if not stock_data.empty else None\n",
      "/var/folders/9b/x2ln5s1x0x97knwyr1569h3r0000gn/T/ipykernel_39361/1175524677.py:42: FutureWarning: Series.__getitem__ treating keys as positions is deprecated. In a future version, integer keys will always be treated as labels (consistent with DataFrame behavior). To access a value by position, use `ser.iloc[pos]`\n",
      "  current_volume = stock_data['Volume'][0] if not stock_data.empty else None\n",
      "/var/folders/9b/x2ln5s1x0x97knwyr1569h3r0000gn/T/ipykernel_39361/1175524677.py:42: FutureWarning: Series.__getitem__ treating keys as positions is deprecated. In a future version, integer keys will always be treated as labels (consistent with DataFrame behavior). To access a value by position, use `ser.iloc[pos]`\n",
      "  current_volume = stock_data['Volume'][0] if not stock_data.empty else None\n",
      "/var/folders/9b/x2ln5s1x0x97knwyr1569h3r0000gn/T/ipykernel_39361/1175524677.py:42: FutureWarning: Series.__getitem__ treating keys as positions is deprecated. In a future version, integer keys will always be treated as labels (consistent with DataFrame behavior). To access a value by position, use `ser.iloc[pos]`\n",
      "  current_volume = stock_data['Volume'][0] if not stock_data.empty else None\n",
      "/var/folders/9b/x2ln5s1x0x97knwyr1569h3r0000gn/T/ipykernel_39361/1175524677.py:42: FutureWarning: Series.__getitem__ treating keys as positions is deprecated. In a future version, integer keys will always be treated as labels (consistent with DataFrame behavior). To access a value by position, use `ser.iloc[pos]`\n",
      "  current_volume = stock_data['Volume'][0] if not stock_data.empty else None\n",
      "/var/folders/9b/x2ln5s1x0x97knwyr1569h3r0000gn/T/ipykernel_39361/1175524677.py:42: FutureWarning: Series.__getitem__ treating keys as positions is deprecated. In a future version, integer keys will always be treated as labels (consistent with DataFrame behavior). To access a value by position, use `ser.iloc[pos]`\n",
      "  current_volume = stock_data['Volume'][0] if not stock_data.empty else None\n",
      "/var/folders/9b/x2ln5s1x0x97knwyr1569h3r0000gn/T/ipykernel_39361/1175524677.py:42: FutureWarning: Series.__getitem__ treating keys as positions is deprecated. In a future version, integer keys will always be treated as labels (consistent with DataFrame behavior). To access a value by position, use `ser.iloc[pos]`\n",
      "  current_volume = stock_data['Volume'][0] if not stock_data.empty else None\n",
      "/var/folders/9b/x2ln5s1x0x97knwyr1569h3r0000gn/T/ipykernel_39361/1175524677.py:42: FutureWarning: Series.__getitem__ treating keys as positions is deprecated. In a future version, integer keys will always be treated as labels (consistent with DataFrame behavior). To access a value by position, use `ser.iloc[pos]`\n",
      "  current_volume = stock_data['Volume'][0] if not stock_data.empty else None\n",
      "/var/folders/9b/x2ln5s1x0x97knwyr1569h3r0000gn/T/ipykernel_39361/1175524677.py:42: FutureWarning: Series.__getitem__ treating keys as positions is deprecated. In a future version, integer keys will always be treated as labels (consistent with DataFrame behavior). To access a value by position, use `ser.iloc[pos]`\n",
      "  current_volume = stock_data['Volume'][0] if not stock_data.empty else None\n",
      "/var/folders/9b/x2ln5s1x0x97knwyr1569h3r0000gn/T/ipykernel_39361/1175524677.py:42: FutureWarning: Series.__getitem__ treating keys as positions is deprecated. In a future version, integer keys will always be treated as labels (consistent with DataFrame behavior). To access a value by position, use `ser.iloc[pos]`\n",
      "  current_volume = stock_data['Volume'][0] if not stock_data.empty else None\n",
      "/var/folders/9b/x2ln5s1x0x97knwyr1569h3r0000gn/T/ipykernel_39361/1175524677.py:42: FutureWarning: Series.__getitem__ treating keys as positions is deprecated. In a future version, integer keys will always be treated as labels (consistent with DataFrame behavior). To access a value by position, use `ser.iloc[pos]`\n",
      "  current_volume = stock_data['Volume'][0] if not stock_data.empty else None\n",
      "/var/folders/9b/x2ln5s1x0x97knwyr1569h3r0000gn/T/ipykernel_39361/1175524677.py:42: FutureWarning: Series.__getitem__ treating keys as positions is deprecated. In a future version, integer keys will always be treated as labels (consistent with DataFrame behavior). To access a value by position, use `ser.iloc[pos]`\n",
      "  current_volume = stock_data['Volume'][0] if not stock_data.empty else None\n",
      "/var/folders/9b/x2ln5s1x0x97knwyr1569h3r0000gn/T/ipykernel_39361/1175524677.py:42: FutureWarning: Series.__getitem__ treating keys as positions is deprecated. In a future version, integer keys will always be treated as labels (consistent with DataFrame behavior). To access a value by position, use `ser.iloc[pos]`\n",
      "  current_volume = stock_data['Volume'][0] if not stock_data.empty else None\n",
      "/var/folders/9b/x2ln5s1x0x97knwyr1569h3r0000gn/T/ipykernel_39361/1175524677.py:42: FutureWarning: Series.__getitem__ treating keys as positions is deprecated. In a future version, integer keys will always be treated as labels (consistent with DataFrame behavior). To access a value by position, use `ser.iloc[pos]`\n",
      "  current_volume = stock_data['Volume'][0] if not stock_data.empty else None\n",
      "/var/folders/9b/x2ln5s1x0x97knwyr1569h3r0000gn/T/ipykernel_39361/1175524677.py:42: FutureWarning: Series.__getitem__ treating keys as positions is deprecated. In a future version, integer keys will always be treated as labels (consistent with DataFrame behavior). To access a value by position, use `ser.iloc[pos]`\n",
      "  current_volume = stock_data['Volume'][0] if not stock_data.empty else None\n",
      "/var/folders/9b/x2ln5s1x0x97knwyr1569h3r0000gn/T/ipykernel_39361/1175524677.py:42: FutureWarning: Series.__getitem__ treating keys as positions is deprecated. In a future version, integer keys will always be treated as labels (consistent with DataFrame behavior). To access a value by position, use `ser.iloc[pos]`\n",
      "  current_volume = stock_data['Volume'][0] if not stock_data.empty else None\n",
      "/var/folders/9b/x2ln5s1x0x97knwyr1569h3r0000gn/T/ipykernel_39361/1175524677.py:42: FutureWarning: Series.__getitem__ treating keys as positions is deprecated. In a future version, integer keys will always be treated as labels (consistent with DataFrame behavior). To access a value by position, use `ser.iloc[pos]`\n",
      "  current_volume = stock_data['Volume'][0] if not stock_data.empty else None\n",
      "/var/folders/9b/x2ln5s1x0x97knwyr1569h3r0000gn/T/ipykernel_39361/1175524677.py:42: FutureWarning: Series.__getitem__ treating keys as positions is deprecated. In a future version, integer keys will always be treated as labels (consistent with DataFrame behavior). To access a value by position, use `ser.iloc[pos]`\n",
      "  current_volume = stock_data['Volume'][0] if not stock_data.empty else None\n",
      "/var/folders/9b/x2ln5s1x0x97knwyr1569h3r0000gn/T/ipykernel_39361/2438095224.py:3: SettingWithCopyWarning: \n",
      "A value is trying to be set on a copy of a slice from a DataFrame.\n",
      "Try using .loc[row_indexer,col_indexer] = value instead\n",
      "\n",
      "See the caveats in the documentation: https://pandas.pydata.org/pandas-docs/stable/user_guide/indexing.html#returning-a-view-versus-a-copy\n",
      "  big_data3['Neg'] = None\n",
      "/var/folders/9b/x2ln5s1x0x97knwyr1569h3r0000gn/T/ipykernel_39361/2438095224.py:4: SettingWithCopyWarning: \n",
      "A value is trying to be set on a copy of a slice from a DataFrame.\n",
      "Try using .loc[row_indexer,col_indexer] = value instead\n",
      "\n",
      "See the caveats in the documentation: https://pandas.pydata.org/pandas-docs/stable/user_guide/indexing.html#returning-a-view-versus-a-copy\n",
      "  big_data3['Neo'] = None\n",
      "/var/folders/9b/x2ln5s1x0x97knwyr1569h3r0000gn/T/ipykernel_39361/2438095224.py:5: SettingWithCopyWarning: \n",
      "A value is trying to be set on a copy of a slice from a DataFrame.\n",
      "Try using .loc[row_indexer,col_indexer] = value instead\n",
      "\n",
      "See the caveats in the documentation: https://pandas.pydata.org/pandas-docs/stable/user_guide/indexing.html#returning-a-view-versus-a-copy\n",
      "  big_data3['Pos'] = None\n"
     ]
    }
   ],
   "source": [
    "fetch_gainers_and_save_to_json()\n",
    "big_data01 = get_news_data_from_json('gainers.json')\n",
    "big_data02 = filter_time(big_data01)\n",
    "big_data03 = filter_strategy(big_data02)\n",
    "big_data03 = sentiment(big_data03)"
   ]
  },
  {
   "cell_type": "code",
   "execution_count": 7,
   "metadata": {},
   "outputs": [
    {
     "data": {
      "text/plain": [
       "0"
      ]
     },
     "execution_count": 7,
     "metadata": {},
     "output_type": "execute_result"
    }
   ],
   "source": [
    "## just to get the requirements.txt\n",
    "# import os\n",
    "# os.system('pip freeze > requirements.txt')\n"
   ]
  },
  {
   "cell_type": "code",
   "execution_count": null,
   "metadata": {},
   "outputs": [],
   "source": []
  }
 ],
 "metadata": {
  "kernelspec": {
   "display_name": "stock_dashboard",
   "language": "python",
   "name": "python3"
  },
  "language_info": {
   "codemirror_mode": {
    "name": "ipython",
    "version": 3
   },
   "file_extension": ".py",
   "mimetype": "text/x-python",
   "name": "python",
   "nbconvert_exporter": "python",
   "pygments_lexer": "ipython3",
   "version": "3.11.10"
  }
 },
 "nbformat": 4,
 "nbformat_minor": 2
}
